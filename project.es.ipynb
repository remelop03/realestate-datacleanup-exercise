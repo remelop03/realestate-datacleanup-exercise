{
  "cells": [
    {
      "attachments": {},
      "cell_type": "markdown",
      "id": "innocent-university",
      "metadata": {},
      "source": [
        "# Limpieza de bienes raíces\n",
        "\n",
        "Este es un conjunto de datos (dataset) reales que fue descargado usando técnicas de web scraping. La data contiene registros de **Fotocasa**, el cual es uno de los sitios más populares de bienes raíces en España. Por favor no hagas esto (web scraping) a no ser que sea para propósitos académicos.\n",
        "\n",
        "El dataset fue descargado hace algunos años por Henry Navarro y en ningún caso se obtuvo beneficio económico de ello.\n",
        "\n",
        "Contiene miles de datos de casas reales publicadas en la web www.fotocasa.com. Tu objetivo es extraer tanta información como sea posible con el conocimiento que tienes hasta ahora de ciencia de datos, por ejemplo ¿cuál es la casa más cara en todo el dataset?\n",
        "\n",
        "Empecemos precisamente con esa pregunta... ¡Buena suerte!"
      ]
    },
    {
      "attachments": {},
      "cell_type": "markdown",
      "id": "multiple-glass",
      "metadata": {},
      "source": [
        "#### Ejercicio 00. Lee el dataset assets/real_estate.csv e intenta visualizar la tabla (★☆☆)"
      ]
    },
    {
      "cell_type": "code",
      "execution_count": 1,
      "id": "frank-heath",
      "metadata": {},
      "outputs": [
        {
          "data": {
            "text/html": [
              "<div>\n",
              "<style scoped>\n",
              "    .dataframe tbody tr th:only-of-type {\n",
              "        vertical-align: middle;\n",
              "    }\n",
              "\n",
              "    .dataframe tbody tr th {\n",
              "        vertical-align: top;\n",
              "    }\n",
              "\n",
              "    .dataframe thead th {\n",
              "        text-align: right;\n",
              "    }\n",
              "</style>\n",
              "<table border=\"1\" class=\"dataframe\">\n",
              "  <thead>\n",
              "    <tr style=\"text-align: right;\">\n",
              "      <th></th>\n",
              "      <th>Unnamed: 0</th>\n",
              "      <th>id_realEstates</th>\n",
              "      <th>isNew</th>\n",
              "      <th>realEstate_name</th>\n",
              "      <th>phone_realEstate</th>\n",
              "      <th>url_inmueble</th>\n",
              "      <th>rooms</th>\n",
              "      <th>bathrooms</th>\n",
              "      <th>surface</th>\n",
              "      <th>price</th>\n",
              "      <th>...</th>\n",
              "      <th>level4Id</th>\n",
              "      <th>level5Id</th>\n",
              "      <th>level6Id</th>\n",
              "      <th>level7Id</th>\n",
              "      <th>level8Id</th>\n",
              "      <th>accuracy</th>\n",
              "      <th>latitude</th>\n",
              "      <th>longitude</th>\n",
              "      <th>zipCode</th>\n",
              "      <th>customZone</th>\n",
              "    </tr>\n",
              "  </thead>\n",
              "  <tbody>\n",
              "    <tr>\n",
              "      <th>0</th>\n",
              "      <td>1</td>\n",
              "      <td>153771986</td>\n",
              "      <td>False</td>\n",
              "      <td>ferrari 57 inmobiliaria</td>\n",
              "      <td>912177526.0</td>\n",
              "      <td>https://www.fotocasa.es/es/comprar/vivienda/ma...</td>\n",
              "      <td>3.0</td>\n",
              "      <td>2.0</td>\n",
              "      <td>103.0</td>\n",
              "      <td>195000</td>\n",
              "      <td>...</td>\n",
              "      <td>0</td>\n",
              "      <td>0</td>\n",
              "      <td>0</td>\n",
              "      <td>0</td>\n",
              "      <td>0</td>\n",
              "      <td>0</td>\n",
              "      <td>40,2948276786438</td>\n",
              "      <td>-3,44402412135624</td>\n",
              "      <td>NaN</td>\n",
              "      <td>NaN</td>\n",
              "    </tr>\n",
              "    <tr>\n",
              "      <th>1</th>\n",
              "      <td>2</td>\n",
              "      <td>153867863</td>\n",
              "      <td>False</td>\n",
              "      <td>tecnocasa fuenlabrada ferrocarril</td>\n",
              "      <td>916358736.0</td>\n",
              "      <td>https://www.fotocasa.es/es/comprar/vivienda/ma...</td>\n",
              "      <td>3.0</td>\n",
              "      <td>1.0</td>\n",
              "      <td>NaN</td>\n",
              "      <td>89000</td>\n",
              "      <td>...</td>\n",
              "      <td>0</td>\n",
              "      <td>0</td>\n",
              "      <td>0</td>\n",
              "      <td>0</td>\n",
              "      <td>0</td>\n",
              "      <td>1</td>\n",
              "      <td>40,28674</td>\n",
              "      <td>-3,79351</td>\n",
              "      <td>NaN</td>\n",
              "      <td>NaN</td>\n",
              "    </tr>\n",
              "    <tr>\n",
              "      <th>2</th>\n",
              "      <td>3</td>\n",
              "      <td>153430440</td>\n",
              "      <td>False</td>\n",
              "      <td>look find boadilla</td>\n",
              "      <td>916350408.0</td>\n",
              "      <td>https://www.fotocasa.es/es/comprar/vivienda/ma...</td>\n",
              "      <td>2.0</td>\n",
              "      <td>2.0</td>\n",
              "      <td>99.0</td>\n",
              "      <td>390000</td>\n",
              "      <td>...</td>\n",
              "      <td>0</td>\n",
              "      <td>0</td>\n",
              "      <td>0</td>\n",
              "      <td>0</td>\n",
              "      <td>0</td>\n",
              "      <td>0</td>\n",
              "      <td>40,4115646786438</td>\n",
              "      <td>-3,90662252135624</td>\n",
              "      <td>NaN</td>\n",
              "      <td>NaN</td>\n",
              "    </tr>\n",
              "    <tr>\n",
              "      <th>3</th>\n",
              "      <td>4</td>\n",
              "      <td>152776331</td>\n",
              "      <td>False</td>\n",
              "      <td>tecnocasa fuenlabrada ferrocarril</td>\n",
              "      <td>916358736.0</td>\n",
              "      <td>https://www.fotocasa.es/es/comprar/vivienda/ma...</td>\n",
              "      <td>3.0</td>\n",
              "      <td>1.0</td>\n",
              "      <td>86.0</td>\n",
              "      <td>89000</td>\n",
              "      <td>...</td>\n",
              "      <td>0</td>\n",
              "      <td>0</td>\n",
              "      <td>0</td>\n",
              "      <td>0</td>\n",
              "      <td>0</td>\n",
              "      <td>0</td>\n",
              "      <td>40,2853785786438</td>\n",
              "      <td>-3,79508142135624</td>\n",
              "      <td>NaN</td>\n",
              "      <td>NaN</td>\n",
              "    </tr>\n",
              "    <tr>\n",
              "      <th>4</th>\n",
              "      <td>5</td>\n",
              "      <td>153180188</td>\n",
              "      <td>False</td>\n",
              "      <td>ferrari 57 inmobiliaria</td>\n",
              "      <td>912177526.0</td>\n",
              "      <td>https://www.fotocasa.es/es/comprar/vivienda/ma...</td>\n",
              "      <td>2.0</td>\n",
              "      <td>2.0</td>\n",
              "      <td>106.0</td>\n",
              "      <td>172000</td>\n",
              "      <td>...</td>\n",
              "      <td>0</td>\n",
              "      <td>0</td>\n",
              "      <td>0</td>\n",
              "      <td>0</td>\n",
              "      <td>0</td>\n",
              "      <td>0</td>\n",
              "      <td>40,2998774864376</td>\n",
              "      <td>-3,45226301356237</td>\n",
              "      <td>NaN</td>\n",
              "      <td>NaN</td>\n",
              "    </tr>\n",
              "  </tbody>\n",
              "</table>\n",
              "<p>5 rows × 37 columns</p>\n",
              "</div>"
            ],
            "text/plain": [
              "   Unnamed: 0  id_realEstates  isNew                    realEstate_name  \\\n",
              "0           1       153771986  False            ferrari 57 inmobiliaria   \n",
              "1           2       153867863  False  tecnocasa fuenlabrada ferrocarril   \n",
              "2           3       153430440  False                 look find boadilla   \n",
              "3           4       152776331  False  tecnocasa fuenlabrada ferrocarril   \n",
              "4           5       153180188  False            ferrari 57 inmobiliaria   \n",
              "\n",
              "   phone_realEstate                                       url_inmueble  rooms  \\\n",
              "0       912177526.0  https://www.fotocasa.es/es/comprar/vivienda/ma...    3.0   \n",
              "1       916358736.0  https://www.fotocasa.es/es/comprar/vivienda/ma...    3.0   \n",
              "2       916350408.0  https://www.fotocasa.es/es/comprar/vivienda/ma...    2.0   \n",
              "3       916358736.0  https://www.fotocasa.es/es/comprar/vivienda/ma...    3.0   \n",
              "4       912177526.0  https://www.fotocasa.es/es/comprar/vivienda/ma...    2.0   \n",
              "\n",
              "   bathrooms  surface   price  ... level4Id level5Id level6Id level7Id  \\\n",
              "0        2.0    103.0  195000  ...        0        0        0        0   \n",
              "1        1.0      NaN   89000  ...        0        0        0        0   \n",
              "2        2.0     99.0  390000  ...        0        0        0        0   \n",
              "3        1.0     86.0   89000  ...        0        0        0        0   \n",
              "4        2.0    106.0  172000  ...        0        0        0        0   \n",
              "\n",
              "  level8Id accuracy          latitude          longitude zipCode customZone  \n",
              "0        0        0  40,2948276786438  -3,44402412135624     NaN        NaN  \n",
              "1        0        1          40,28674           -3,79351     NaN        NaN  \n",
              "2        0        0  40,4115646786438  -3,90662252135624     NaN        NaN  \n",
              "3        0        0  40,2853785786438  -3,79508142135624     NaN        NaN  \n",
              "4        0        0  40,2998774864376  -3,45226301356237     NaN        NaN  \n",
              "\n",
              "[5 rows x 37 columns]"
            ]
          },
          "execution_count": 1,
          "metadata": {},
          "output_type": "execute_result"
        }
      ],
      "source": [
        "import pandas as pd\n",
        "\n",
        "# Este archivo CSV contiene puntos y comas en lugar de comas como separadores\n",
        "ds = pd.read_csv('assets/real_estate.csv', sep=';')\n",
        "ds.head()"
      ]
    },
    {
      "cell_type": "code",
      "execution_count": 2,
      "id": "eec99747",
      "metadata": {},
      "outputs": [
        {
          "data": {
            "text/plain": [
              "(15335, 37)"
            ]
          },
          "execution_count": 2,
          "metadata": {},
          "output_type": "execute_result"
        }
      ],
      "source": [
        "ds.shape"
      ]
    },
    {
      "cell_type": "code",
      "execution_count": 3,
      "id": "d87925a2",
      "metadata": {},
      "outputs": [
        {
          "data": {
            "text/plain": [
              "Index(['Unnamed: 0', 'id_realEstates', 'isNew', 'realEstate_name',\n",
              "       'phone_realEstate', 'url_inmueble', 'rooms', 'bathrooms', 'surface',\n",
              "       'price', 'date', 'description', 'address', 'country', 'level1',\n",
              "       'level2', 'level3', 'level4', 'level5', 'level6', 'level7', 'level8',\n",
              "       'upperLevel', 'countryId', 'level1Id', 'level2Id', 'level3Id',\n",
              "       'level4Id', 'level5Id', 'level6Id', 'level7Id', 'level8Id', 'accuracy',\n",
              "       'latitude', 'longitude', 'zipCode', 'customZone'],\n",
              "      dtype='object')"
            ]
          },
          "execution_count": 3,
          "metadata": {},
          "output_type": "execute_result"
        }
      ],
      "source": [
        "ds.columns"
      ]
    },
    {
      "cell_type": "code",
      "execution_count": 4,
      "id": "be3858b7",
      "metadata": {},
      "outputs": [
        {
          "data": {
            "text/plain": [
              "zipCode             15335\n",
              "customZone          15335\n",
              "level6              14627\n",
              "level8               8579\n",
              "level4               6643\n",
              "level7               2277\n",
              "surface              1250\n",
              "phone_realEstate      794\n",
              "rooms                 353\n",
              "bathrooms             345\n",
              "description           142\n",
              "realEstate_name        10\n",
              "Unnamed: 0              0\n",
              "id_realEstates          0\n",
              "isNew                   0\n",
              "address                 0\n",
              "country                 0\n",
              "level3                  0\n",
              "date                    0\n",
              "price                   0\n",
              "url_inmueble            0\n",
              "level5                  0\n",
              "level1                  0\n",
              "level2                  0\n",
              "upperLevel              0\n",
              "level2Id                0\n",
              "level3Id                0\n",
              "countryId               0\n",
              "level1Id                0\n",
              "level5Id                0\n",
              "level4Id                0\n",
              "level6Id                0\n",
              "level7Id                0\n",
              "accuracy                0\n",
              "level8Id                0\n",
              "longitude               0\n",
              "latitude                0\n",
              "dtype: int64"
            ]
          },
          "execution_count": 4,
          "metadata": {},
          "output_type": "execute_result"
        }
      ],
      "source": [
        "ds.isnull().sum().sort_values(ascending=False)"
      ]
    },
    {
      "cell_type": "code",
      "execution_count": 5,
      "id": "bddced21",
      "metadata": {},
      "outputs": [
        {
          "name": "stdout",
          "output_type": "stream",
          "text": [
            "<class 'pandas.core.frame.DataFrame'>\n",
            "RangeIndex: 15335 entries, 0 to 15334\n",
            "Data columns (total 37 columns):\n",
            " #   Column            Non-Null Count  Dtype  \n",
            "---  ------            --------------  -----  \n",
            " 0   Unnamed: 0        15335 non-null  int64  \n",
            " 1   id_realEstates    15335 non-null  int64  \n",
            " 2   isNew             15335 non-null  bool   \n",
            " 3   realEstate_name   15325 non-null  object \n",
            " 4   phone_realEstate  14541 non-null  float64\n",
            " 5   url_inmueble      15335 non-null  object \n",
            " 6   rooms             14982 non-null  float64\n",
            " 7   bathrooms         14990 non-null  float64\n",
            " 8   surface           14085 non-null  float64\n",
            " 9   price             15335 non-null  int64  \n",
            " 10  date              15335 non-null  object \n",
            " 11  description       15193 non-null  object \n",
            " 12  address           15335 non-null  object \n",
            " 13  country           15335 non-null  object \n",
            " 14  level1            15335 non-null  object \n",
            " 15  level2            15335 non-null  object \n",
            " 16  level3            15335 non-null  object \n",
            " 17  level4            8692 non-null   object \n",
            " 18  level5            15335 non-null  object \n",
            " 19  level6            708 non-null    object \n",
            " 20  level7            13058 non-null  object \n",
            " 21  level8            6756 non-null   object \n",
            " 22  upperLevel        15335 non-null  object \n",
            " 23  countryId         15335 non-null  int64  \n",
            " 24  level1Id          15335 non-null  int64  \n",
            " 25  level2Id          15335 non-null  int64  \n",
            " 26  level3Id          15335 non-null  int64  \n",
            " 27  level4Id          15335 non-null  int64  \n",
            " 28  level5Id          15335 non-null  int64  \n",
            " 29  level6Id          15335 non-null  int64  \n",
            " 30  level7Id          15335 non-null  int64  \n",
            " 31  level8Id          15335 non-null  int64  \n",
            " 32  accuracy          15335 non-null  int64  \n",
            " 33  latitude          15335 non-null  object \n",
            " 34  longitude         15335 non-null  object \n",
            " 35  zipCode           0 non-null      float64\n",
            " 36  customZone        0 non-null      float64\n",
            "dtypes: bool(1), float64(6), int64(13), object(17)\n",
            "memory usage: 4.2+ MB\n"
          ]
        }
      ],
      "source": [
        "ds.info()"
      ]
    },
    {
      "cell_type": "code",
      "execution_count": 6,
      "id": "5e159084",
      "metadata": {},
      "outputs": [
        {
          "data": {
            "text/plain": [
              "14217"
            ]
          },
          "execution_count": 6,
          "metadata": {},
          "output_type": "execute_result"
        }
      ],
      "source": [
        "ds['id_realEstates'].nunique()"
      ]
    },
    {
      "cell_type": "code",
      "execution_count": 7,
      "id": "9c545db3",
      "metadata": {},
      "outputs": [
        {
          "data": {
            "text/plain": [
              "np.int64(1118)"
            ]
          },
          "execution_count": 7,
          "metadata": {},
          "output_type": "execute_result"
        }
      ],
      "source": [
        "ds['id_realEstates'].duplicated().sum()"
      ]
    },
    {
      "cell_type": "code",
      "execution_count": 8,
      "id": "27c6f291",
      "metadata": {},
      "outputs": [
        {
          "data": {
            "text/html": [
              "<div>\n",
              "<style scoped>\n",
              "    .dataframe tbody tr th:only-of-type {\n",
              "        vertical-align: middle;\n",
              "    }\n",
              "\n",
              "    .dataframe tbody tr th {\n",
              "        vertical-align: top;\n",
              "    }\n",
              "\n",
              "    .dataframe thead th {\n",
              "        text-align: right;\n",
              "    }\n",
              "</style>\n",
              "<table border=\"1\" class=\"dataframe\">\n",
              "  <thead>\n",
              "    <tr style=\"text-align: right;\">\n",
              "      <th></th>\n",
              "      <th>Unnamed: 0</th>\n",
              "      <th>id_realEstates</th>\n",
              "      <th>isNew</th>\n",
              "      <th>realEstate_name</th>\n",
              "      <th>phone_realEstate</th>\n",
              "      <th>url_inmueble</th>\n",
              "      <th>rooms</th>\n",
              "      <th>bathrooms</th>\n",
              "      <th>surface</th>\n",
              "      <th>price</th>\n",
              "      <th>...</th>\n",
              "      <th>level4Id</th>\n",
              "      <th>level5Id</th>\n",
              "      <th>level6Id</th>\n",
              "      <th>level7Id</th>\n",
              "      <th>level8Id</th>\n",
              "      <th>accuracy</th>\n",
              "      <th>latitude</th>\n",
              "      <th>longitude</th>\n",
              "      <th>zipCode</th>\n",
              "      <th>customZone</th>\n",
              "    </tr>\n",
              "  </thead>\n",
              "  <tbody>\n",
              "    <tr>\n",
              "      <th>155</th>\n",
              "      <td>156</td>\n",
              "      <td>153986774</td>\n",
              "      <td>False</td>\n",
              "      <td>grupo tizona</td>\n",
              "      <td>911227059.0</td>\n",
              "      <td>https://www.fotocasa.es/es/comprar/vivienda/ma...</td>\n",
              "      <td>3.0</td>\n",
              "      <td>2.0</td>\n",
              "      <td>100.0</td>\n",
              "      <td>179900</td>\n",
              "      <td>...</td>\n",
              "      <td>0</td>\n",
              "      <td>0</td>\n",
              "      <td>0</td>\n",
              "      <td>0</td>\n",
              "      <td>0</td>\n",
              "      <td>0</td>\n",
              "      <td>40,31495</td>\n",
              "      <td>-3,85764</td>\n",
              "      <td>NaN</td>\n",
              "      <td>NaN</td>\n",
              "    </tr>\n",
              "    <tr>\n",
              "      <th>785</th>\n",
              "      <td>786</td>\n",
              "      <td>153674618</td>\n",
              "      <td>False</td>\n",
              "      <td>infocasa consulting</td>\n",
              "      <td>911360461.0</td>\n",
              "      <td>https://www.fotocasa.es/es/comprar/vivienda/ma...</td>\n",
              "      <td>3.0</td>\n",
              "      <td>2.0</td>\n",
              "      <td>128.0</td>\n",
              "      <td>540000</td>\n",
              "      <td>...</td>\n",
              "      <td>0</td>\n",
              "      <td>0</td>\n",
              "      <td>0</td>\n",
              "      <td>0</td>\n",
              "      <td>0</td>\n",
              "      <td>0</td>\n",
              "      <td>40,4047485786438</td>\n",
              "      <td>-3,67681142135624</td>\n",
              "      <td>NaN</td>\n",
              "      <td>NaN</td>\n",
              "    </tr>\n",
              "    <tr>\n",
              "      <th>965</th>\n",
              "      <td>966</td>\n",
              "      <td>154001257</td>\n",
              "      <td>True</td>\n",
              "      <td>tecnocasa alcala via complutense</td>\n",
              "      <td>911794067.0</td>\n",
              "      <td>https://www.fotocasa.es/es/comprar/vivienda/ci...</td>\n",
              "      <td>3.0</td>\n",
              "      <td>2.0</td>\n",
              "      <td>136.0</td>\n",
              "      <td>240000</td>\n",
              "      <td>...</td>\n",
              "      <td>0</td>\n",
              "      <td>0</td>\n",
              "      <td>0</td>\n",
              "      <td>0</td>\n",
              "      <td>0</td>\n",
              "      <td>0</td>\n",
              "      <td>40,4945710135624</td>\n",
              "      <td>-3,37486591356237</td>\n",
              "      <td>NaN</td>\n",
              "      <td>NaN</td>\n",
              "    </tr>\n",
              "    <tr>\n",
              "      <th>966</th>\n",
              "      <td>967</td>\n",
              "      <td>151893232</td>\n",
              "      <td>False</td>\n",
              "      <td>remax ambar</td>\n",
              "      <td>911369248.0</td>\n",
              "      <td>https://www.fotocasa.es/es/comprar/vivienda/ci...</td>\n",
              "      <td>3.0</td>\n",
              "      <td>2.0</td>\n",
              "      <td>220.0</td>\n",
              "      <td>220000</td>\n",
              "      <td>...</td>\n",
              "      <td>0</td>\n",
              "      <td>0</td>\n",
              "      <td>0</td>\n",
              "      <td>0</td>\n",
              "      <td>0</td>\n",
              "      <td>0</td>\n",
              "      <td>40,369571</td>\n",
              "      <td>-4,2987308</td>\n",
              "      <td>NaN</td>\n",
              "      <td>NaN</td>\n",
              "    </tr>\n",
              "    <tr>\n",
              "      <th>967</th>\n",
              "      <td>968</td>\n",
              "      <td>154001240</td>\n",
              "      <td>True</td>\n",
              "      <td>agencia inmobiliaria las americas</td>\n",
              "      <td>912788147.0</td>\n",
              "      <td>https://www.fotocasa.es/es/comprar/vivienda/ci...</td>\n",
              "      <td>2.0</td>\n",
              "      <td>2.0</td>\n",
              "      <td>77.0</td>\n",
              "      <td>132260</td>\n",
              "      <td>...</td>\n",
              "      <td>0</td>\n",
              "      <td>0</td>\n",
              "      <td>0</td>\n",
              "      <td>0</td>\n",
              "      <td>0</td>\n",
              "      <td>0</td>\n",
              "      <td>40,2394911056114</td>\n",
              "      <td>-3,76252692154227</td>\n",
              "      <td>NaN</td>\n",
              "      <td>NaN</td>\n",
              "    </tr>\n",
              "    <tr>\n",
              "      <th>...</th>\n",
              "      <td>...</td>\n",
              "      <td>...</td>\n",
              "      <td>...</td>\n",
              "      <td>...</td>\n",
              "      <td>...</td>\n",
              "      <td>...</td>\n",
              "      <td>...</td>\n",
              "      <td>...</td>\n",
              "      <td>...</td>\n",
              "      <td>...</td>\n",
              "      <td>...</td>\n",
              "      <td>...</td>\n",
              "      <td>...</td>\n",
              "      <td>...</td>\n",
              "      <td>...</td>\n",
              "      <td>...</td>\n",
              "      <td>...</td>\n",
              "      <td>...</td>\n",
              "      <td>...</td>\n",
              "      <td>...</td>\n",
              "      <td>...</td>\n",
              "    </tr>\n",
              "    <tr>\n",
              "      <th>15186</th>\n",
              "      <td>15187</td>\n",
              "      <td>150113871</td>\n",
              "      <td>False</td>\n",
              "      <td>rf inversiones</td>\n",
              "      <td>911221186.0</td>\n",
              "      <td>https://www.fotocasa.es/es/comprar/vivienda/ma...</td>\n",
              "      <td>3.0</td>\n",
              "      <td>2.0</td>\n",
              "      <td>123.0</td>\n",
              "      <td>220000</td>\n",
              "      <td>...</td>\n",
              "      <td>0</td>\n",
              "      <td>0</td>\n",
              "      <td>0</td>\n",
              "      <td>0</td>\n",
              "      <td>0</td>\n",
              "      <td>0</td>\n",
              "      <td>40,46234</td>\n",
              "      <td>-3,45609</td>\n",
              "      <td>NaN</td>\n",
              "      <td>NaN</td>\n",
              "    </tr>\n",
              "    <tr>\n",
              "      <th>15187</th>\n",
              "      <td>15188</td>\n",
              "      <td>152070300</td>\n",
              "      <td>False</td>\n",
              "      <td>abanca</td>\n",
              "      <td>981968254.0</td>\n",
              "      <td>https://www.fotocasa.es/es/comprar/vivienda/ma...</td>\n",
              "      <td>3.0</td>\n",
              "      <td>1.0</td>\n",
              "      <td>62.0</td>\n",
              "      <td>148270</td>\n",
              "      <td>...</td>\n",
              "      <td>0</td>\n",
              "      <td>0</td>\n",
              "      <td>0</td>\n",
              "      <td>0</td>\n",
              "      <td>0</td>\n",
              "      <td>0</td>\n",
              "      <td>40,4048109</td>\n",
              "      <td>-3,7393306</td>\n",
              "      <td>NaN</td>\n",
              "      <td>NaN</td>\n",
              "    </tr>\n",
              "    <tr>\n",
              "      <th>15188</th>\n",
              "      <td>15189</td>\n",
              "      <td>151918182</td>\n",
              "      <td>False</td>\n",
              "      <td>trader inmobiliario</td>\n",
              "      <td>914890357.0</td>\n",
              "      <td>https://www.fotocasa.es/es/comprar/vivienda/ma...</td>\n",
              "      <td>2.0</td>\n",
              "      <td>1.0</td>\n",
              "      <td>NaN</td>\n",
              "      <td>106000</td>\n",
              "      <td>...</td>\n",
              "      <td>0</td>\n",
              "      <td>0</td>\n",
              "      <td>0</td>\n",
              "      <td>0</td>\n",
              "      <td>0</td>\n",
              "      <td>0</td>\n",
              "      <td>40,3195857864376</td>\n",
              "      <td>-3,86946578643763</td>\n",
              "      <td>NaN</td>\n",
              "      <td>NaN</td>\n",
              "    </tr>\n",
              "    <tr>\n",
              "      <th>15189</th>\n",
              "      <td>15190</td>\n",
              "      <td>146980212</td>\n",
              "      <td>False</td>\n",
              "      <td>grupo h h vivienda</td>\n",
              "      <td>910759921.0</td>\n",
              "      <td>https://www.fotocasa.es/es/comprar/vivienda/ma...</td>\n",
              "      <td>3.0</td>\n",
              "      <td>2.0</td>\n",
              "      <td>171.0</td>\n",
              "      <td>275000</td>\n",
              "      <td>...</td>\n",
              "      <td>0</td>\n",
              "      <td>0</td>\n",
              "      <td>0</td>\n",
              "      <td>0</td>\n",
              "      <td>0</td>\n",
              "      <td>1</td>\n",
              "      <td>40,70057</td>\n",
              "      <td>-3,94234</td>\n",
              "      <td>NaN</td>\n",
              "      <td>NaN</td>\n",
              "    </tr>\n",
              "    <tr>\n",
              "      <th>15275</th>\n",
              "      <td>15276</td>\n",
              "      <td>153903887</td>\n",
              "      <td>False</td>\n",
              "      <td>aliseda servicios de gestion inmobiliaria</td>\n",
              "      <td>911368198.0</td>\n",
              "      <td>https://www.fotocasa.es/es/comprar/vivienda/al...</td>\n",
              "      <td>3.0</td>\n",
              "      <td>1.0</td>\n",
              "      <td>78.0</td>\n",
              "      <td>138000</td>\n",
              "      <td>...</td>\n",
              "      <td>0</td>\n",
              "      <td>0</td>\n",
              "      <td>0</td>\n",
              "      <td>0</td>\n",
              "      <td>0</td>\n",
              "      <td>1</td>\n",
              "      <td>40,31381</td>\n",
              "      <td>-3,83733</td>\n",
              "      <td>NaN</td>\n",
              "      <td>NaN</td>\n",
              "    </tr>\n",
              "  </tbody>\n",
              "</table>\n",
              "<p>1118 rows × 37 columns</p>\n",
              "</div>"
            ],
            "text/plain": [
              "       Unnamed: 0  id_realEstates  isNew  \\\n",
              "155           156       153986774  False   \n",
              "785           786       153674618  False   \n",
              "965           966       154001257   True   \n",
              "966           967       151893232  False   \n",
              "967           968       154001240   True   \n",
              "...           ...             ...    ...   \n",
              "15186       15187       150113871  False   \n",
              "15187       15188       152070300  False   \n",
              "15188       15189       151918182  False   \n",
              "15189       15190       146980212  False   \n",
              "15275       15276       153903887  False   \n",
              "\n",
              "                                 realEstate_name  phone_realEstate  \\\n",
              "155                                 grupo tizona       911227059.0   \n",
              "785                          infocasa consulting       911360461.0   \n",
              "965             tecnocasa alcala via complutense       911794067.0   \n",
              "966                                  remax ambar       911369248.0   \n",
              "967            agencia inmobiliaria las americas       912788147.0   \n",
              "...                                          ...               ...   \n",
              "15186                             rf inversiones       911221186.0   \n",
              "15187                                     abanca       981968254.0   \n",
              "15188                        trader inmobiliario       914890357.0   \n",
              "15189                         grupo h h vivienda       910759921.0   \n",
              "15275  aliseda servicios de gestion inmobiliaria       911368198.0   \n",
              "\n",
              "                                            url_inmueble  rooms  bathrooms  \\\n",
              "155    https://www.fotocasa.es/es/comprar/vivienda/ma...    3.0        2.0   \n",
              "785    https://www.fotocasa.es/es/comprar/vivienda/ma...    3.0        2.0   \n",
              "965    https://www.fotocasa.es/es/comprar/vivienda/ci...    3.0        2.0   \n",
              "966    https://www.fotocasa.es/es/comprar/vivienda/ci...    3.0        2.0   \n",
              "967    https://www.fotocasa.es/es/comprar/vivienda/ci...    2.0        2.0   \n",
              "...                                                  ...    ...        ...   \n",
              "15186  https://www.fotocasa.es/es/comprar/vivienda/ma...    3.0        2.0   \n",
              "15187  https://www.fotocasa.es/es/comprar/vivienda/ma...    3.0        1.0   \n",
              "15188  https://www.fotocasa.es/es/comprar/vivienda/ma...    2.0        1.0   \n",
              "15189  https://www.fotocasa.es/es/comprar/vivienda/ma...    3.0        2.0   \n",
              "15275  https://www.fotocasa.es/es/comprar/vivienda/al...    3.0        1.0   \n",
              "\n",
              "       surface   price  ... level4Id level5Id level6Id level7Id level8Id  \\\n",
              "155      100.0  179900  ...        0        0        0        0        0   \n",
              "785      128.0  540000  ...        0        0        0        0        0   \n",
              "965      136.0  240000  ...        0        0        0        0        0   \n",
              "966      220.0  220000  ...        0        0        0        0        0   \n",
              "967       77.0  132260  ...        0        0        0        0        0   \n",
              "...        ...     ...  ...      ...      ...      ...      ...      ...   \n",
              "15186    123.0  220000  ...        0        0        0        0        0   \n",
              "15187     62.0  148270  ...        0        0        0        0        0   \n",
              "15188      NaN  106000  ...        0        0        0        0        0   \n",
              "15189    171.0  275000  ...        0        0        0        0        0   \n",
              "15275     78.0  138000  ...        0        0        0        0        0   \n",
              "\n",
              "      accuracy          latitude          longitude zipCode customZone  \n",
              "155          0          40,31495           -3,85764     NaN        NaN  \n",
              "785          0  40,4047485786438  -3,67681142135624     NaN        NaN  \n",
              "965          0  40,4945710135624  -3,37486591356237     NaN        NaN  \n",
              "966          0         40,369571         -4,2987308     NaN        NaN  \n",
              "967          0  40,2394911056114  -3,76252692154227     NaN        NaN  \n",
              "...        ...               ...                ...     ...        ...  \n",
              "15186        0          40,46234           -3,45609     NaN        NaN  \n",
              "15187        0        40,4048109         -3,7393306     NaN        NaN  \n",
              "15188        0  40,3195857864376  -3,86946578643763     NaN        NaN  \n",
              "15189        1          40,70057           -3,94234     NaN        NaN  \n",
              "15275        1          40,31381           -3,83733     NaN        NaN  \n",
              "\n",
              "[1118 rows x 37 columns]"
            ]
          },
          "execution_count": 8,
          "metadata": {},
          "output_type": "execute_result"
        }
      ],
      "source": [
        "ds[ds['id_realEstates'].duplicated()]"
      ]
    },
    {
      "cell_type": "code",
      "execution_count": 9,
      "id": "304904b7",
      "metadata": {},
      "outputs": [
        {
          "data": {
            "text/html": [
              "<div>\n",
              "<style scoped>\n",
              "    .dataframe tbody tr th:only-of-type {\n",
              "        vertical-align: middle;\n",
              "    }\n",
              "\n",
              "    .dataframe tbody tr th {\n",
              "        vertical-align: top;\n",
              "    }\n",
              "\n",
              "    .dataframe thead th {\n",
              "        text-align: right;\n",
              "    }\n",
              "</style>\n",
              "<table border=\"1\" class=\"dataframe\">\n",
              "  <thead>\n",
              "    <tr style=\"text-align: right;\">\n",
              "      <th></th>\n",
              "      <th>Unnamed: 0</th>\n",
              "      <th>id_realEstates</th>\n",
              "      <th>isNew</th>\n",
              "      <th>realEstate_name</th>\n",
              "      <th>phone_realEstate</th>\n",
              "      <th>url_inmueble</th>\n",
              "      <th>rooms</th>\n",
              "      <th>bathrooms</th>\n",
              "      <th>surface</th>\n",
              "      <th>price</th>\n",
              "      <th>...</th>\n",
              "      <th>level4Id</th>\n",
              "      <th>level5Id</th>\n",
              "      <th>level6Id</th>\n",
              "      <th>level7Id</th>\n",
              "      <th>level8Id</th>\n",
              "      <th>accuracy</th>\n",
              "      <th>latitude</th>\n",
              "      <th>longitude</th>\n",
              "      <th>zipCode</th>\n",
              "      <th>customZone</th>\n",
              "    </tr>\n",
              "  </thead>\n",
              "  <tbody>\n",
              "    <tr>\n",
              "      <th>784</th>\n",
              "      <td>785</td>\n",
              "      <td>153674618</td>\n",
              "      <td>False</td>\n",
              "      <td>infocasa consulting</td>\n",
              "      <td>911360461.0</td>\n",
              "      <td>https://www.fotocasa.es/es/comprar/vivienda/ma...</td>\n",
              "      <td>3.0</td>\n",
              "      <td>2.0</td>\n",
              "      <td>128.0</td>\n",
              "      <td>540000</td>\n",
              "      <td>...</td>\n",
              "      <td>0</td>\n",
              "      <td>0</td>\n",
              "      <td>0</td>\n",
              "      <td>0</td>\n",
              "      <td>0</td>\n",
              "      <td>0</td>\n",
              "      <td>40,4047485786438</td>\n",
              "      <td>-3,67681142135624</td>\n",
              "      <td>NaN</td>\n",
              "      <td>NaN</td>\n",
              "    </tr>\n",
              "    <tr>\n",
              "      <th>785</th>\n",
              "      <td>786</td>\n",
              "      <td>153674618</td>\n",
              "      <td>False</td>\n",
              "      <td>infocasa consulting</td>\n",
              "      <td>911360461.0</td>\n",
              "      <td>https://www.fotocasa.es/es/comprar/vivienda/ma...</td>\n",
              "      <td>3.0</td>\n",
              "      <td>2.0</td>\n",
              "      <td>128.0</td>\n",
              "      <td>540000</td>\n",
              "      <td>...</td>\n",
              "      <td>0</td>\n",
              "      <td>0</td>\n",
              "      <td>0</td>\n",
              "      <td>0</td>\n",
              "      <td>0</td>\n",
              "      <td>0</td>\n",
              "      <td>40,4047485786438</td>\n",
              "      <td>-3,67681142135624</td>\n",
              "      <td>NaN</td>\n",
              "      <td>NaN</td>\n",
              "    </tr>\n",
              "  </tbody>\n",
              "</table>\n",
              "<p>2 rows × 37 columns</p>\n",
              "</div>"
            ],
            "text/plain": [
              "     Unnamed: 0  id_realEstates  isNew      realEstate_name  phone_realEstate  \\\n",
              "784         785       153674618  False  infocasa consulting       911360461.0   \n",
              "785         786       153674618  False  infocasa consulting       911360461.0   \n",
              "\n",
              "                                          url_inmueble  rooms  bathrooms  \\\n",
              "784  https://www.fotocasa.es/es/comprar/vivienda/ma...    3.0        2.0   \n",
              "785  https://www.fotocasa.es/es/comprar/vivienda/ma...    3.0        2.0   \n",
              "\n",
              "     surface   price  ... level4Id level5Id level6Id level7Id level8Id  \\\n",
              "784    128.0  540000  ...        0        0        0        0        0   \n",
              "785    128.0  540000  ...        0        0        0        0        0   \n",
              "\n",
              "    accuracy          latitude          longitude zipCode customZone  \n",
              "784        0  40,4047485786438  -3,67681142135624     NaN        NaN  \n",
              "785        0  40,4047485786438  -3,67681142135624     NaN        NaN  \n",
              "\n",
              "[2 rows x 37 columns]"
            ]
          },
          "execution_count": 9,
          "metadata": {},
          "output_type": "execute_result"
        }
      ],
      "source": [
        "ds[ds[\"id_realEstates\"] == 153674618]"
      ]
    },
    {
      "cell_type": "code",
      "execution_count": 10,
      "id": "ab52a54b",
      "metadata": {},
      "outputs": [
        {
          "data": {
            "text/html": [
              "<div>\n",
              "<style scoped>\n",
              "    .dataframe tbody tr th:only-of-type {\n",
              "        vertical-align: middle;\n",
              "    }\n",
              "\n",
              "    .dataframe tbody tr th {\n",
              "        vertical-align: top;\n",
              "    }\n",
              "\n",
              "    .dataframe thead th {\n",
              "        text-align: right;\n",
              "    }\n",
              "</style>\n",
              "<table border=\"1\" class=\"dataframe\">\n",
              "  <thead>\n",
              "    <tr style=\"text-align: right;\">\n",
              "      <th></th>\n",
              "      <th>id_realEstates</th>\n",
              "      <th>isNew</th>\n",
              "      <th>realEstate_name</th>\n",
              "      <th>rooms</th>\n",
              "      <th>bathrooms</th>\n",
              "      <th>surface</th>\n",
              "      <th>price</th>\n",
              "      <th>date</th>\n",
              "      <th>description</th>\n",
              "      <th>address</th>\n",
              "      <th>...</th>\n",
              "      <th>level2Id</th>\n",
              "      <th>level3Id</th>\n",
              "      <th>level4Id</th>\n",
              "      <th>level5Id</th>\n",
              "      <th>level6Id</th>\n",
              "      <th>level7Id</th>\n",
              "      <th>level8Id</th>\n",
              "      <th>accuracy</th>\n",
              "      <th>latitude</th>\n",
              "      <th>longitude</th>\n",
              "    </tr>\n",
              "  </thead>\n",
              "  <tbody>\n",
              "    <tr>\n",
              "      <th>0</th>\n",
              "      <td>153771986</td>\n",
              "      <td>False</td>\n",
              "      <td>ferrari 57 inmobiliaria</td>\n",
              "      <td>3.0</td>\n",
              "      <td>2.0</td>\n",
              "      <td>103.0</td>\n",
              "      <td>195000</td>\n",
              "      <td>2019-12-28T18:27:15.9975027Z</td>\n",
              "      <td>Ponemos a la venta piso de 3 dormitorios con t...</td>\n",
              "      <td>Calle Presidente Felipe Gonzalez, Arganda del Rey</td>\n",
              "      <td>...</td>\n",
              "      <td>0</td>\n",
              "      <td>0</td>\n",
              "      <td>0</td>\n",
              "      <td>0</td>\n",
              "      <td>0</td>\n",
              "      <td>0</td>\n",
              "      <td>0</td>\n",
              "      <td>0</td>\n",
              "      <td>40,2948276786438</td>\n",
              "      <td>-3,44402412135624</td>\n",
              "    </tr>\n",
              "    <tr>\n",
              "      <th>1</th>\n",
              "      <td>153867863</td>\n",
              "      <td>False</td>\n",
              "      <td>tecnocasa fuenlabrada ferrocarril</td>\n",
              "      <td>3.0</td>\n",
              "      <td>1.0</td>\n",
              "      <td>NaN</td>\n",
              "      <td>89000</td>\n",
              "      <td>2019-12-28T18:27:15.9975027Z</td>\n",
              "      <td>\"\"Agencia inmobiliaria de FUENLABRADA - zona F...</td>\n",
              "      <td>Calle Polvoranca, 6, Fuenlabrada</td>\n",
              "      <td>...</td>\n",
              "      <td>0</td>\n",
              "      <td>0</td>\n",
              "      <td>0</td>\n",
              "      <td>0</td>\n",
              "      <td>0</td>\n",
              "      <td>0</td>\n",
              "      <td>0</td>\n",
              "      <td>1</td>\n",
              "      <td>40,28674</td>\n",
              "      <td>-3,79351</td>\n",
              "    </tr>\n",
              "    <tr>\n",
              "      <th>2</th>\n",
              "      <td>153430440</td>\n",
              "      <td>False</td>\n",
              "      <td>look find boadilla</td>\n",
              "      <td>2.0</td>\n",
              "      <td>2.0</td>\n",
              "      <td>99.0</td>\n",
              "      <td>390000</td>\n",
              "      <td>2019-12-28T18:27:15.9975027Z</td>\n",
              "      <td>Lookandfind Boadilla, vende en exclusiva, piso...</td>\n",
              "      <td>Calle Reyes Católicos, Boadilla del Monte</td>\n",
              "      <td>...</td>\n",
              "      <td>0</td>\n",
              "      <td>0</td>\n",
              "      <td>0</td>\n",
              "      <td>0</td>\n",
              "      <td>0</td>\n",
              "      <td>0</td>\n",
              "      <td>0</td>\n",
              "      <td>0</td>\n",
              "      <td>40,4115646786438</td>\n",
              "      <td>-3,90662252135624</td>\n",
              "    </tr>\n",
              "    <tr>\n",
              "      <th>3</th>\n",
              "      <td>152776331</td>\n",
              "      <td>False</td>\n",
              "      <td>tecnocasa fuenlabrada ferrocarril</td>\n",
              "      <td>3.0</td>\n",
              "      <td>1.0</td>\n",
              "      <td>86.0</td>\n",
              "      <td>89000</td>\n",
              "      <td>2019-12-28T18:27:15.9975027Z</td>\n",
              "      <td>Agencia inmobiliaria de FUENLABRADA - zona Fue...</td>\n",
              "      <td>Barrio San Andres, Fuenlabrada</td>\n",
              "      <td>...</td>\n",
              "      <td>0</td>\n",
              "      <td>0</td>\n",
              "      <td>0</td>\n",
              "      <td>0</td>\n",
              "      <td>0</td>\n",
              "      <td>0</td>\n",
              "      <td>0</td>\n",
              "      <td>0</td>\n",
              "      <td>40,2853785786438</td>\n",
              "      <td>-3,79508142135624</td>\n",
              "    </tr>\n",
              "    <tr>\n",
              "      <th>4</th>\n",
              "      <td>153180188</td>\n",
              "      <td>False</td>\n",
              "      <td>ferrari 57 inmobiliaria</td>\n",
              "      <td>2.0</td>\n",
              "      <td>2.0</td>\n",
              "      <td>106.0</td>\n",
              "      <td>172000</td>\n",
              "      <td>2019-12-28T18:27:15.9975027Z</td>\n",
              "      <td>PISOS DE OBRA NUEVA DE 2 Y 3 DORMITORIOS. OBRA...</td>\n",
              "      <td>Arganda del Rey</td>\n",
              "      <td>...</td>\n",
              "      <td>0</td>\n",
              "      <td>0</td>\n",
              "      <td>0</td>\n",
              "      <td>0</td>\n",
              "      <td>0</td>\n",
              "      <td>0</td>\n",
              "      <td>0</td>\n",
              "      <td>0</td>\n",
              "      <td>40,2998774864376</td>\n",
              "      <td>-3,45226301356237</td>\n",
              "    </tr>\n",
              "  </tbody>\n",
              "</table>\n",
              "<p>5 rows × 32 columns</p>\n",
              "</div>"
            ],
            "text/plain": [
              "   id_realEstates  isNew                    realEstate_name  rooms  bathrooms  \\\n",
              "0       153771986  False            ferrari 57 inmobiliaria    3.0        2.0   \n",
              "1       153867863  False  tecnocasa fuenlabrada ferrocarril    3.0        1.0   \n",
              "2       153430440  False                 look find boadilla    2.0        2.0   \n",
              "3       152776331  False  tecnocasa fuenlabrada ferrocarril    3.0        1.0   \n",
              "4       153180188  False            ferrari 57 inmobiliaria    2.0        2.0   \n",
              "\n",
              "   surface   price                          date  \\\n",
              "0    103.0  195000  2019-12-28T18:27:15.9975027Z   \n",
              "1      NaN   89000  2019-12-28T18:27:15.9975027Z   \n",
              "2     99.0  390000  2019-12-28T18:27:15.9975027Z   \n",
              "3     86.0   89000  2019-12-28T18:27:15.9975027Z   \n",
              "4    106.0  172000  2019-12-28T18:27:15.9975027Z   \n",
              "\n",
              "                                         description  \\\n",
              "0  Ponemos a la venta piso de 3 dormitorios con t...   \n",
              "1  \"\"Agencia inmobiliaria de FUENLABRADA - zona F...   \n",
              "2  Lookandfind Boadilla, vende en exclusiva, piso...   \n",
              "3  Agencia inmobiliaria de FUENLABRADA - zona Fue...   \n",
              "4  PISOS DE OBRA NUEVA DE 2 Y 3 DORMITORIOS. OBRA...   \n",
              "\n",
              "                                             address  ... level2Id level3Id  \\\n",
              "0  Calle Presidente Felipe Gonzalez, Arganda del Rey  ...        0        0   \n",
              "1                   Calle Polvoranca, 6, Fuenlabrada  ...        0        0   \n",
              "2          Calle Reyes Católicos, Boadilla del Monte  ...        0        0   \n",
              "3                     Barrio San Andres, Fuenlabrada  ...        0        0   \n",
              "4                                    Arganda del Rey  ...        0        0   \n",
              "\n",
              "  level4Id level5Id level6Id level7Id level8Id accuracy          latitude  \\\n",
              "0        0        0        0        0        0        0  40,2948276786438   \n",
              "1        0        0        0        0        0        1          40,28674   \n",
              "2        0        0        0        0        0        0  40,4115646786438   \n",
              "3        0        0        0        0        0        0  40,2853785786438   \n",
              "4        0        0        0        0        0        0  40,2998774864376   \n",
              "\n",
              "           longitude  \n",
              "0  -3,44402412135624  \n",
              "1           -3,79351  \n",
              "2  -3,90662252135624  \n",
              "3  -3,79508142135624  \n",
              "4  -3,45226301356237  \n",
              "\n",
              "[5 rows x 32 columns]"
            ]
          },
          "execution_count": 10,
          "metadata": {},
          "output_type": "execute_result"
        }
      ],
      "source": [
        "data = ds.copy()\n",
        "data = data.drop_duplicates(subset=['id_realEstates'])\n",
        "data = data.drop(columns = ['Unnamed: 0', 'phone_realEstate', 'url_inmueble', 'zipCode', 'customZone'])\n",
        "data.head()"
      ]
    },
    {
      "cell_type": "code",
      "execution_count": 11,
      "id": "e036fa52",
      "metadata": {},
      "outputs": [
        {
          "data": {
            "text/html": [
              "<div>\n",
              "<style scoped>\n",
              "    .dataframe tbody tr th:only-of-type {\n",
              "        vertical-align: middle;\n",
              "    }\n",
              "\n",
              "    .dataframe tbody tr th {\n",
              "        vertical-align: top;\n",
              "    }\n",
              "\n",
              "    .dataframe thead th {\n",
              "        text-align: right;\n",
              "    }\n",
              "</style>\n",
              "<table border=\"1\" class=\"dataframe\">\n",
              "  <thead>\n",
              "    <tr style=\"text-align: right;\">\n",
              "      <th></th>\n",
              "      <th>id_realEstates</th>\n",
              "      <th>isNew</th>\n",
              "      <th>realEstate_name</th>\n",
              "      <th>rooms</th>\n",
              "      <th>bathrooms</th>\n",
              "      <th>surface</th>\n",
              "      <th>price</th>\n",
              "      <th>date</th>\n",
              "      <th>description</th>\n",
              "      <th>address</th>\n",
              "      <th>...</th>\n",
              "      <th>level2Id</th>\n",
              "      <th>level3Id</th>\n",
              "      <th>level4Id</th>\n",
              "      <th>level5Id</th>\n",
              "      <th>level6Id</th>\n",
              "      <th>level7Id</th>\n",
              "      <th>level8Id</th>\n",
              "      <th>accuracy</th>\n",
              "      <th>latitude</th>\n",
              "      <th>longitude</th>\n",
              "    </tr>\n",
              "  </thead>\n",
              "  <tbody>\n",
              "    <tr>\n",
              "      <th>0</th>\n",
              "      <td>153771986</td>\n",
              "      <td>False</td>\n",
              "      <td>ferrari 57 inmobiliaria</td>\n",
              "      <td>3.0</td>\n",
              "      <td>2.0</td>\n",
              "      <td>103.0</td>\n",
              "      <td>195000</td>\n",
              "      <td>2019-12-28</td>\n",
              "      <td>Ponemos a la venta piso de 3 dormitorios con t...</td>\n",
              "      <td>Calle Presidente Felipe Gonzalez, Arganda del Rey</td>\n",
              "      <td>...</td>\n",
              "      <td>0</td>\n",
              "      <td>0</td>\n",
              "      <td>0</td>\n",
              "      <td>0</td>\n",
              "      <td>0</td>\n",
              "      <td>0</td>\n",
              "      <td>0</td>\n",
              "      <td>0</td>\n",
              "      <td>40,2948276786438</td>\n",
              "      <td>-3,44402412135624</td>\n",
              "    </tr>\n",
              "    <tr>\n",
              "      <th>1</th>\n",
              "      <td>153867863</td>\n",
              "      <td>False</td>\n",
              "      <td>tecnocasa fuenlabrada ferrocarril</td>\n",
              "      <td>3.0</td>\n",
              "      <td>1.0</td>\n",
              "      <td>NaN</td>\n",
              "      <td>89000</td>\n",
              "      <td>2019-12-28</td>\n",
              "      <td>\"\"Agencia inmobiliaria de FUENLABRADA - zona F...</td>\n",
              "      <td>Calle Polvoranca, 6, Fuenlabrada</td>\n",
              "      <td>...</td>\n",
              "      <td>0</td>\n",
              "      <td>0</td>\n",
              "      <td>0</td>\n",
              "      <td>0</td>\n",
              "      <td>0</td>\n",
              "      <td>0</td>\n",
              "      <td>0</td>\n",
              "      <td>1</td>\n",
              "      <td>40,28674</td>\n",
              "      <td>-3,79351</td>\n",
              "    </tr>\n",
              "    <tr>\n",
              "      <th>2</th>\n",
              "      <td>153430440</td>\n",
              "      <td>False</td>\n",
              "      <td>look find boadilla</td>\n",
              "      <td>2.0</td>\n",
              "      <td>2.0</td>\n",
              "      <td>99.0</td>\n",
              "      <td>390000</td>\n",
              "      <td>2019-12-28</td>\n",
              "      <td>Lookandfind Boadilla, vende en exclusiva, piso...</td>\n",
              "      <td>Calle Reyes Católicos, Boadilla del Monte</td>\n",
              "      <td>...</td>\n",
              "      <td>0</td>\n",
              "      <td>0</td>\n",
              "      <td>0</td>\n",
              "      <td>0</td>\n",
              "      <td>0</td>\n",
              "      <td>0</td>\n",
              "      <td>0</td>\n",
              "      <td>0</td>\n",
              "      <td>40,4115646786438</td>\n",
              "      <td>-3,90662252135624</td>\n",
              "    </tr>\n",
              "    <tr>\n",
              "      <th>3</th>\n",
              "      <td>152776331</td>\n",
              "      <td>False</td>\n",
              "      <td>tecnocasa fuenlabrada ferrocarril</td>\n",
              "      <td>3.0</td>\n",
              "      <td>1.0</td>\n",
              "      <td>86.0</td>\n",
              "      <td>89000</td>\n",
              "      <td>2019-12-28</td>\n",
              "      <td>Agencia inmobiliaria de FUENLABRADA - zona Fue...</td>\n",
              "      <td>Barrio San Andres, Fuenlabrada</td>\n",
              "      <td>...</td>\n",
              "      <td>0</td>\n",
              "      <td>0</td>\n",
              "      <td>0</td>\n",
              "      <td>0</td>\n",
              "      <td>0</td>\n",
              "      <td>0</td>\n",
              "      <td>0</td>\n",
              "      <td>0</td>\n",
              "      <td>40,2853785786438</td>\n",
              "      <td>-3,79508142135624</td>\n",
              "    </tr>\n",
              "    <tr>\n",
              "      <th>4</th>\n",
              "      <td>153180188</td>\n",
              "      <td>False</td>\n",
              "      <td>ferrari 57 inmobiliaria</td>\n",
              "      <td>2.0</td>\n",
              "      <td>2.0</td>\n",
              "      <td>106.0</td>\n",
              "      <td>172000</td>\n",
              "      <td>2019-12-28</td>\n",
              "      <td>PISOS DE OBRA NUEVA DE 2 Y 3 DORMITORIOS. OBRA...</td>\n",
              "      <td>Arganda del Rey</td>\n",
              "      <td>...</td>\n",
              "      <td>0</td>\n",
              "      <td>0</td>\n",
              "      <td>0</td>\n",
              "      <td>0</td>\n",
              "      <td>0</td>\n",
              "      <td>0</td>\n",
              "      <td>0</td>\n",
              "      <td>0</td>\n",
              "      <td>40,2998774864376</td>\n",
              "      <td>-3,45226301356237</td>\n",
              "    </tr>\n",
              "  </tbody>\n",
              "</table>\n",
              "<p>5 rows × 32 columns</p>\n",
              "</div>"
            ],
            "text/plain": [
              "   id_realEstates  isNew                    realEstate_name  rooms  bathrooms  \\\n",
              "0       153771986  False            ferrari 57 inmobiliaria    3.0        2.0   \n",
              "1       153867863  False  tecnocasa fuenlabrada ferrocarril    3.0        1.0   \n",
              "2       153430440  False                 look find boadilla    2.0        2.0   \n",
              "3       152776331  False  tecnocasa fuenlabrada ferrocarril    3.0        1.0   \n",
              "4       153180188  False            ferrari 57 inmobiliaria    2.0        2.0   \n",
              "\n",
              "   surface   price       date  \\\n",
              "0    103.0  195000 2019-12-28   \n",
              "1      NaN   89000 2019-12-28   \n",
              "2     99.0  390000 2019-12-28   \n",
              "3     86.0   89000 2019-12-28   \n",
              "4    106.0  172000 2019-12-28   \n",
              "\n",
              "                                         description  \\\n",
              "0  Ponemos a la venta piso de 3 dormitorios con t...   \n",
              "1  \"\"Agencia inmobiliaria de FUENLABRADA - zona F...   \n",
              "2  Lookandfind Boadilla, vende en exclusiva, piso...   \n",
              "3  Agencia inmobiliaria de FUENLABRADA - zona Fue...   \n",
              "4  PISOS DE OBRA NUEVA DE 2 Y 3 DORMITORIOS. OBRA...   \n",
              "\n",
              "                                             address  ... level2Id level3Id  \\\n",
              "0  Calle Presidente Felipe Gonzalez, Arganda del Rey  ...        0        0   \n",
              "1                   Calle Polvoranca, 6, Fuenlabrada  ...        0        0   \n",
              "2          Calle Reyes Católicos, Boadilla del Monte  ...        0        0   \n",
              "3                     Barrio San Andres, Fuenlabrada  ...        0        0   \n",
              "4                                    Arganda del Rey  ...        0        0   \n",
              "\n",
              "  level4Id level5Id level6Id level7Id level8Id accuracy          latitude  \\\n",
              "0        0        0        0        0        0        0  40,2948276786438   \n",
              "1        0        0        0        0        0        1          40,28674   \n",
              "2        0        0        0        0        0        0  40,4115646786438   \n",
              "3        0        0        0        0        0        0  40,2853785786438   \n",
              "4        0        0        0        0        0        0  40,2998774864376   \n",
              "\n",
              "           longitude  \n",
              "0  -3,44402412135624  \n",
              "1           -3,79351  \n",
              "2  -3,90662252135624  \n",
              "3  -3,79508142135624  \n",
              "4  -3,45226301356237  \n",
              "\n",
              "[5 rows x 32 columns]"
            ]
          },
          "execution_count": 11,
          "metadata": {},
          "output_type": "execute_result"
        }
      ],
      "source": [
        "data['date'] = pd.to_datetime(data['date'].str.split('T').str[0], format = '%Y-%m-%d')\n",
        "data.head()"
      ]
    },
    {
      "cell_type": "code",
      "execution_count": 12,
      "id": "210f6f05",
      "metadata": {},
      "outputs": [
        {
          "data": {
            "text/plain": [
              "(14217, 32)"
            ]
          },
          "execution_count": 12,
          "metadata": {},
          "output_type": "execute_result"
        }
      ],
      "source": [
        "data.shape"
      ]
    },
    {
      "cell_type": "code",
      "execution_count": 13,
      "id": "e89c5986",
      "metadata": {},
      "outputs": [
        {
          "data": {
            "text/plain": [
              "Index(['id_realEstates', 'isNew', 'realEstate_name', 'rooms', 'bathrooms',\n",
              "       'surface', 'price', 'date', 'description', 'address', 'country',\n",
              "       'level1', 'level2', 'level3', 'level4', 'level5', 'level6', 'level7',\n",
              "       'level8', 'upperLevel', 'countryId', 'level1Id', 'level2Id', 'level3Id',\n",
              "       'level4Id', 'level5Id', 'level6Id', 'level7Id', 'level8Id', 'accuracy',\n",
              "       'latitude', 'longitude'],\n",
              "      dtype='object')"
            ]
          },
          "execution_count": 13,
          "metadata": {},
          "output_type": "execute_result"
        }
      ],
      "source": [
        "data.columns"
      ]
    },
    {
      "attachments": {},
      "cell_type": "markdown",
      "id": "latin-guest",
      "metadata": {},
      "source": [
        "#### Ejercicio 01. ¿Cuál es la casa más cara en todo el dataset? (★☆☆)\n",
        "\n",
        "Imprime la dirección y el precio de la casa seleccionada. Por ejemplo:\n",
        "\n",
        "`La casa con dirección en Calle del Prado, Nº20 es la más cara y su precio es de 5000000 USD`"
      ]
    },
    {
      "cell_type": "code",
      "execution_count": 14,
      "id": "developing-optimum",
      "metadata": {},
      "outputs": [
        {
          "name": "stdout",
          "output_type": "stream",
          "text": [
            "La casa con dirección en El Escorial, es la mas cara y su precio es de 8500000 USD\n"
          ]
        }
      ],
      "source": [
        "max_price   = data['price'].max()\n",
        "address_max = data.loc[data['price'].idxmax(), 'address']\n",
        "print(f'La casa con dirección en {address_max}, es la mas cara y su precio es de {max_price} USD')"
      ]
    },
    {
      "attachments": {},
      "cell_type": "markdown",
      "id": "lesser-cosmetic",
      "metadata": {},
      "source": [
        "#### Ejercicio 02. ¿Cuál es la casa más barata del dataset? (★☆☆)\n",
        "\n",
        "Imprime la dirección y el precio de la casa seleccionada. Por ejemplo:\n",
        "\n",
        "`La casa con dirección en Calle Alcalá, Nº58 es la más barata y su precio es de 12000 USD`"
      ]
    },
    {
      "cell_type": "code",
      "execution_count": 15,
      "id": "lovely-oasis",
      "metadata": {},
      "outputs": [
        {
          "name": "stdout",
          "output_type": "stream",
          "text": [
            "La casa con dirección en Parla, es la más barata y su precio es de 0 USD\n"
          ]
        }
      ],
      "source": [
        "min_price   = data['price'].min()\n",
        "address_min = data.loc[data['price'].idxmin(), 'address']\n",
        "print(f'La casa con dirección en {address_min}, es la más barata y su precio es de {min_price} USD')"
      ]
    },
    {
      "attachments": {},
      "cell_type": "markdown",
      "id": "compliant-fellowship",
      "metadata": {},
      "source": [
        "#### Ejercicio 03. ¿Cuál es la casa más grande y la más pequeña del dataset? (★☆☆)\n",
        "\n",
        "Imprime la dirección y el área de las casas seleccionadas. Por ejemplo:\n",
        "\n",
        "`La casa más grande está ubicada en Calle Gran Vía, Nº38 y su superficie es de 5000 metros`\n",
        "\n",
        "`La casa más pequeña está ubicada en Calle Mayor, Nº12 y su superficie es de 200 metros`"
      ]
    },
    {
      "cell_type": "code",
      "execution_count": 16,
      "id": "every-tiffany",
      "metadata": {},
      "outputs": [
        {
          "name": "stdout",
          "output_type": "stream",
          "text": [
            "La casa más grande está ubicada en Sevilla la Nueva y su superficie es de 249000.0 metros\n"
          ]
        }
      ],
      "source": [
        "max_area = data['surface'].max()\n",
        "address_max_area = data.loc[data['surface'].idxmax(), 'address']\n",
        "print(f'La casa más grande está ubicada en {address_max_area} y su superficie es de {max_area} metros')"
      ]
    },
    {
      "cell_type": "code",
      "execution_count": 17,
      "id": "02db9231",
      "metadata": {},
      "outputs": [
        {
          "name": "stdout",
          "output_type": "stream",
          "text": [
            "La casa más pequeña está ubicada Calle Amparo,  Madrid Capital y su superficie es de 15.0 metros\n"
          ]
        }
      ],
      "source": [
        "min_area = data['surface'].min()\n",
        "address_min_area = data.loc[data['surface'].idxmin(), 'address']\n",
        "print(f'La casa más pequeña está ubicada {address_min_area} y su superficie es de {min_area} metros')"
      ]
    },
    {
      "attachments": {},
      "cell_type": "markdown",
      "id": "danish-spirit",
      "metadata": {},
      "source": [
        "#### Ejercicio 04. ¿Cuantas poblaciones (columna level5) contiene el dataset? (★☆☆)\n",
        "\n",
        "Imprime el nombre de las poblaciones separadas por coma. Por ejemplo:\n",
        "\n",
        "`> print(populations)`\n",
        "\n",
        "`population1, population2, population3, ...`"
      ]
    },
    {
      "cell_type": "code",
      "execution_count": 18,
      "id": "exciting-accreditation",
      "metadata": {},
      "outputs": [],
      "source": [
        "level5 = data['level5'].value_counts()"
      ]
    },
    {
      "cell_type": "code",
      "execution_count": 19,
      "id": "dc752829",
      "metadata": {},
      "outputs": [
        {
          "data": {
            "text/plain": [
              "Index([' Madrid Capital', 'Alcalá de Henares', 'Las Rozas de Madrid',\n",
              "       'Móstoles', 'Getafe', 'San Sebastián de los Reyes',\n",
              "       'Boadilla del Monte', 'Valdemoro', 'Parla', 'Torrejón de Ardoz',\n",
              "       ...\n",
              "       'Navarredonda', 'Patones', 'Canencia', 'Lozoya', 'Navalafuente',\n",
              "       'Fresno de Torote', 'Pinilla del Valle', 'Rascafría', 'La Hiruela',\n",
              "       'Montejo de la Sierra'],\n",
              "      dtype='object', name='level5', length=168)"
            ]
          },
          "execution_count": 19,
          "metadata": {},
          "output_type": "execute_result"
        }
      ],
      "source": [
        "population = level5.index\n",
        "population"
      ]
    },
    {
      "attachments": {},
      "cell_type": "markdown",
      "id": "crazy-blame",
      "metadata": {},
      "source": [
        "#### Ejercicio 05. ¿El dataset contiene valores no admitidos (NAs)? (★☆☆)\n",
        "\n",
        "Imprima un booleano (`True` o `False`) seguido de la fila/columna que contiene el NAs."
      ]
    },
    {
      "cell_type": "code",
      "execution_count": 20,
      "id": "transparent-poetry",
      "metadata": {},
      "outputs": [
        {
          "name": "stdout",
          "output_type": "stream",
          "text": [
            "Contains NaNs? True\n",
            "Columns with NaNs:\n",
            "id_realEstates     False\n",
            "isNew              False\n",
            "realEstate_name     True\n",
            "rooms               True\n",
            "bathrooms           True\n",
            "surface             True\n",
            "price              False\n",
            "date               False\n",
            "description         True\n",
            "address            False\n",
            "country            False\n",
            "level1             False\n",
            "level2             False\n",
            "level3             False\n",
            "level4              True\n",
            "level5             False\n",
            "level6              True\n",
            "level7              True\n",
            "level8              True\n",
            "upperLevel         False\n",
            "countryId          False\n",
            "level1Id           False\n",
            "level2Id           False\n",
            "level3Id           False\n",
            "level4Id           False\n",
            "level5Id           False\n",
            "level6Id           False\n",
            "level7Id           False\n",
            "level8Id           False\n",
            "accuracy           False\n",
            "latitude           False\n",
            "longitude          False\n",
            "dtype: bool\n"
          ]
        }
      ],
      "source": [
        "# 1. Check if the dataset contains any NaNs\n",
        "# data.isna() → returns a DataFrame of booleans indicating where NaNs are.\n",
        "# data.isna().values.any() → returns True if any cell is NaN\n",
        "has_na = data.isna().values.any() \n",
        "print(\"Contains NaNs?\", has_na)\n",
        "\n",
        "# 2. Print columns with NaNs\n",
        "print(\"Columns with NaNs:\")\n",
        "print(data.isna().any())"
      ]
    },
    {
      "cell_type": "code",
      "execution_count": 21,
      "id": "70500ec7",
      "metadata": {},
      "outputs": [
        {
          "name": "stdout",
          "output_type": "stream",
          "text": [
            "\n",
            "Rows with NaNs:\n"
          ]
        },
        {
          "data": {
            "text/html": [
              "<div>\n",
              "<style scoped>\n",
              "    .dataframe tbody tr th:only-of-type {\n",
              "        vertical-align: middle;\n",
              "    }\n",
              "\n",
              "    .dataframe tbody tr th {\n",
              "        vertical-align: top;\n",
              "    }\n",
              "\n",
              "    .dataframe thead th {\n",
              "        text-align: right;\n",
              "    }\n",
              "</style>\n",
              "<table border=\"1\" class=\"dataframe\">\n",
              "  <thead>\n",
              "    <tr style=\"text-align: right;\">\n",
              "      <th></th>\n",
              "      <th>id_realEstates</th>\n",
              "      <th>isNew</th>\n",
              "      <th>realEstate_name</th>\n",
              "      <th>rooms</th>\n",
              "      <th>bathrooms</th>\n",
              "      <th>surface</th>\n",
              "      <th>price</th>\n",
              "      <th>date</th>\n",
              "      <th>description</th>\n",
              "      <th>address</th>\n",
              "      <th>...</th>\n",
              "      <th>level2Id</th>\n",
              "      <th>level3Id</th>\n",
              "      <th>level4Id</th>\n",
              "      <th>level5Id</th>\n",
              "      <th>level6Id</th>\n",
              "      <th>level7Id</th>\n",
              "      <th>level8Id</th>\n",
              "      <th>accuracy</th>\n",
              "      <th>latitude</th>\n",
              "      <th>longitude</th>\n",
              "    </tr>\n",
              "  </thead>\n",
              "  <tbody>\n",
              "    <tr>\n",
              "      <th>0</th>\n",
              "      <td>153771986</td>\n",
              "      <td>False</td>\n",
              "      <td>ferrari 57 inmobiliaria</td>\n",
              "      <td>3.0</td>\n",
              "      <td>2.0</td>\n",
              "      <td>103.0</td>\n",
              "      <td>195000</td>\n",
              "      <td>2019-12-28</td>\n",
              "      <td>Ponemos a la venta piso de 3 dormitorios con t...</td>\n",
              "      <td>Calle Presidente Felipe Gonzalez, Arganda del Rey</td>\n",
              "      <td>...</td>\n",
              "      <td>0</td>\n",
              "      <td>0</td>\n",
              "      <td>0</td>\n",
              "      <td>0</td>\n",
              "      <td>0</td>\n",
              "      <td>0</td>\n",
              "      <td>0</td>\n",
              "      <td>0</td>\n",
              "      <td>40,2948276786438</td>\n",
              "      <td>-3,44402412135624</td>\n",
              "    </tr>\n",
              "    <tr>\n",
              "      <th>1</th>\n",
              "      <td>153867863</td>\n",
              "      <td>False</td>\n",
              "      <td>tecnocasa fuenlabrada ferrocarril</td>\n",
              "      <td>3.0</td>\n",
              "      <td>1.0</td>\n",
              "      <td>NaN</td>\n",
              "      <td>89000</td>\n",
              "      <td>2019-12-28</td>\n",
              "      <td>\"\"Agencia inmobiliaria de FUENLABRADA - zona F...</td>\n",
              "      <td>Calle Polvoranca, 6, Fuenlabrada</td>\n",
              "      <td>...</td>\n",
              "      <td>0</td>\n",
              "      <td>0</td>\n",
              "      <td>0</td>\n",
              "      <td>0</td>\n",
              "      <td>0</td>\n",
              "      <td>0</td>\n",
              "      <td>0</td>\n",
              "      <td>1</td>\n",
              "      <td>40,28674</td>\n",
              "      <td>-3,79351</td>\n",
              "    </tr>\n",
              "    <tr>\n",
              "      <th>2</th>\n",
              "      <td>153430440</td>\n",
              "      <td>False</td>\n",
              "      <td>look find boadilla</td>\n",
              "      <td>2.0</td>\n",
              "      <td>2.0</td>\n",
              "      <td>99.0</td>\n",
              "      <td>390000</td>\n",
              "      <td>2019-12-28</td>\n",
              "      <td>Lookandfind Boadilla, vende en exclusiva, piso...</td>\n",
              "      <td>Calle Reyes Católicos, Boadilla del Monte</td>\n",
              "      <td>...</td>\n",
              "      <td>0</td>\n",
              "      <td>0</td>\n",
              "      <td>0</td>\n",
              "      <td>0</td>\n",
              "      <td>0</td>\n",
              "      <td>0</td>\n",
              "      <td>0</td>\n",
              "      <td>0</td>\n",
              "      <td>40,4115646786438</td>\n",
              "      <td>-3,90662252135624</td>\n",
              "    </tr>\n",
              "    <tr>\n",
              "      <th>3</th>\n",
              "      <td>152776331</td>\n",
              "      <td>False</td>\n",
              "      <td>tecnocasa fuenlabrada ferrocarril</td>\n",
              "      <td>3.0</td>\n",
              "      <td>1.0</td>\n",
              "      <td>86.0</td>\n",
              "      <td>89000</td>\n",
              "      <td>2019-12-28</td>\n",
              "      <td>Agencia inmobiliaria de FUENLABRADA - zona Fue...</td>\n",
              "      <td>Barrio San Andres, Fuenlabrada</td>\n",
              "      <td>...</td>\n",
              "      <td>0</td>\n",
              "      <td>0</td>\n",
              "      <td>0</td>\n",
              "      <td>0</td>\n",
              "      <td>0</td>\n",
              "      <td>0</td>\n",
              "      <td>0</td>\n",
              "      <td>0</td>\n",
              "      <td>40,2853785786438</td>\n",
              "      <td>-3,79508142135624</td>\n",
              "    </tr>\n",
              "    <tr>\n",
              "      <th>4</th>\n",
              "      <td>153180188</td>\n",
              "      <td>False</td>\n",
              "      <td>ferrari 57 inmobiliaria</td>\n",
              "      <td>2.0</td>\n",
              "      <td>2.0</td>\n",
              "      <td>106.0</td>\n",
              "      <td>172000</td>\n",
              "      <td>2019-12-28</td>\n",
              "      <td>PISOS DE OBRA NUEVA DE 2 Y 3 DORMITORIOS. OBRA...</td>\n",
              "      <td>Arganda del Rey</td>\n",
              "      <td>...</td>\n",
              "      <td>0</td>\n",
              "      <td>0</td>\n",
              "      <td>0</td>\n",
              "      <td>0</td>\n",
              "      <td>0</td>\n",
              "      <td>0</td>\n",
              "      <td>0</td>\n",
              "      <td>0</td>\n",
              "      <td>40,2998774864376</td>\n",
              "      <td>-3,45226301356237</td>\n",
              "    </tr>\n",
              "  </tbody>\n",
              "</table>\n",
              "<p>5 rows × 32 columns</p>\n",
              "</div>"
            ],
            "text/plain": [
              "   id_realEstates  isNew                    realEstate_name  rooms  bathrooms  \\\n",
              "0       153771986  False            ferrari 57 inmobiliaria    3.0        2.0   \n",
              "1       153867863  False  tecnocasa fuenlabrada ferrocarril    3.0        1.0   \n",
              "2       153430440  False                 look find boadilla    2.0        2.0   \n",
              "3       152776331  False  tecnocasa fuenlabrada ferrocarril    3.0        1.0   \n",
              "4       153180188  False            ferrari 57 inmobiliaria    2.0        2.0   \n",
              "\n",
              "   surface   price       date  \\\n",
              "0    103.0  195000 2019-12-28   \n",
              "1      NaN   89000 2019-12-28   \n",
              "2     99.0  390000 2019-12-28   \n",
              "3     86.0   89000 2019-12-28   \n",
              "4    106.0  172000 2019-12-28   \n",
              "\n",
              "                                         description  \\\n",
              "0  Ponemos a la venta piso de 3 dormitorios con t...   \n",
              "1  \"\"Agencia inmobiliaria de FUENLABRADA - zona F...   \n",
              "2  Lookandfind Boadilla, vende en exclusiva, piso...   \n",
              "3  Agencia inmobiliaria de FUENLABRADA - zona Fue...   \n",
              "4  PISOS DE OBRA NUEVA DE 2 Y 3 DORMITORIOS. OBRA...   \n",
              "\n",
              "                                             address  ... level2Id level3Id  \\\n",
              "0  Calle Presidente Felipe Gonzalez, Arganda del Rey  ...        0        0   \n",
              "1                   Calle Polvoranca, 6, Fuenlabrada  ...        0        0   \n",
              "2          Calle Reyes Católicos, Boadilla del Monte  ...        0        0   \n",
              "3                     Barrio San Andres, Fuenlabrada  ...        0        0   \n",
              "4                                    Arganda del Rey  ...        0        0   \n",
              "\n",
              "  level4Id level5Id level6Id level7Id level8Id accuracy          latitude  \\\n",
              "0        0        0        0        0        0        0  40,2948276786438   \n",
              "1        0        0        0        0        0        1          40,28674   \n",
              "2        0        0        0        0        0        0  40,4115646786438   \n",
              "3        0        0        0        0        0        0  40,2853785786438   \n",
              "4        0        0        0        0        0        0  40,2998774864376   \n",
              "\n",
              "           longitude  \n",
              "0  -3,44402412135624  \n",
              "1           -3,79351  \n",
              "2  -3,90662252135624  \n",
              "3  -3,79508142135624  \n",
              "4  -3,45226301356237  \n",
              "\n",
              "[5 rows x 32 columns]"
            ]
          },
          "execution_count": 21,
          "metadata": {},
          "output_type": "execute_result"
        }
      ],
      "source": [
        "# 3. Print rows that contain any NaNs\n",
        "print(\"\\nRows with NaNs:\")\n",
        "rows = data[data.isna().any(axis=1)]\n",
        "rows.head()"
      ]
    },
    {
      "cell_type": "code",
      "execution_count": 22,
      "id": "89094ea6",
      "metadata": {},
      "outputs": [
        {
          "data": {
            "text/plain": [
              "14217"
            ]
          },
          "execution_count": 22,
          "metadata": {},
          "output_type": "execute_result"
        }
      ],
      "source": [
        "len(rows)"
      ]
    },
    {
      "attachments": {},
      "cell_type": "markdown",
      "id": "italic-hydrogen",
      "metadata": {},
      "source": [
        "#### Ejercicio 06. Elimina los NAs del dataset, si aplica (★★☆)\n",
        "\n",
        "Imprima una comparación entre las dimensiones del DataFrame original versus el DataFrame después de las eliminaciones.\n"
      ]
    },
    {
      "cell_type": "code",
      "execution_count": 23,
      "id": "administrative-roads",
      "metadata": {},
      "outputs": [],
      "source": [
        "new_data = data.dropna(axis='columns')"
      ]
    },
    {
      "cell_type": "code",
      "execution_count": 24,
      "id": "63b3b9f6",
      "metadata": {},
      "outputs": [
        {
          "name": "stdout",
          "output_type": "stream",
          "text": [
            "(14217, 32) (14217, 23)\n"
          ]
        }
      ],
      "source": [
        "print(data.shape, new_data.shape)"
      ]
    },
    {
      "attachments": {},
      "cell_type": "markdown",
      "id": "middle-china",
      "metadata": {},
      "source": [
        "#### Ejercicio 07. ¿Cuál la media de precios en la población (columna level5) de \"Arroyomolinos (Madrid)\"? (★★☆)\n",
        "\n",
        "Imprima el valor obtenido."
      ]
    },
    {
      "cell_type": "code",
      "execution_count": 25,
      "id": "nuclear-belief",
      "metadata": {},
      "outputs": [
        {
          "name": "stdout",
          "output_type": "stream",
          "text": [
            "La media de precios en la población (columna level5) de \"Arroyomolinos (Madrid)\" es $294896.94 USD\n"
          ]
        }
      ],
      "source": [
        "arroyomolinos_data = data[data['level5'] == \"Arroyomolinos (Madrid)\"]\n",
        "mean_price = arroyomolinos_data['price'].mean()\n",
        "print(f'La media de precios en la población (columna level5) de \"Arroyomolinos (Madrid)\" es ${round(mean_price, 2)} USD')"
      ]
    },
    {
      "attachments": {},
      "cell_type": "markdown",
      "id": "concerned-radical",
      "metadata": {},
      "source": [
        "#### Ejercicio 08. Trazar el histograma de los precios para la población (level5 column) de \"Arroyomolinos (Madrid)\" y explica qué observas (★★☆)\n",
        "\n",
        "Imprime el histograma de los precios y escribe en la celda del Markdown un breve análisis del trazado.\n"
      ]
    },
    {
      "cell_type": "code",
      "execution_count": 26,
      "id": "sudden-message",
      "metadata": {},
      "outputs": [
        {
          "data": {
            "image/png": "[encoded data removed]",
            "text/plain": [
              "<Figure size 640x480 with 1 Axes>"
            ]
          },
          "metadata": {},
          "output_type": "display_data"
        }
      ],
      "source": [
        "import matplotlib.pyplot as plt\n",
        "import seaborn as sns\n",
        "\n",
        "sns.histplot(data = arroyomolinos_data, x = \"price\", bins = 20).set(xlabel =\"Price\", ylabel = \"Frequency\", title =None)\n",
        "plt.title('Histogram of Prices in Arroyomolinos (Madrid)')\n",
        "plt.tight_layout\n",
        "plt.show()"
      ]
    },
    {
      "cell_type": "code",
      "execution_count": 27,
      "id": "9624b903",
      "metadata": {},
      "outputs": [
        {
          "data": {
            "image/png": "[encoded data removed]",
            "text/plain": [
              "<Figure size 640x480 with 2 Axes>"
            ]
          },
          "metadata": {},
          "output_type": "display_data"
        }
      ],
      "source": [
        "f,(box,hist) = plt.subplots(2, sharex=True)\n",
        "sns.histplot(data = arroyomolinos_data, x = \"price\", bins = 20, ax = hist).set(xlabel =\"Price\", ylabel = \"Frequency\", title =None)\n",
        "sns.boxplot(data = arroyomolinos_data, x = \"price\", ax = box)\n",
        "\n",
        "plt.tight_layout()\n",
        "plt.show()"
      ]
    },
    {
      "attachments": {},
      "cell_type": "markdown",
      "id": "impressed-combination",
      "metadata": {},
      "source": [
        "La distribución de precios para de la población (level5 column) de \"Arroyomolinos (Madrid)\" muestra una distribución normal, mostrando que el rango de precios para la mayoría de las casas se encuentra entre los 200000 USD y los 400000 USD."
      ]
    },
    {
      "attachments": {},
      "cell_type": "markdown",
      "id": "actual-edinburgh",
      "metadata": {},
      "source": [
        "#### Ejercicio 09. ¿Son los precios promedios de \"Valdemorillo\" y \"Galapagar\" los mismos? (★★☆)\n",
        "\n",
        "Imprime ambos promedios y escribe una conclusión sobre ellos."
      ]
    },
    {
      "cell_type": "code",
      "execution_count": 28,
      "id": "numeric-commerce",
      "metadata": {},
      "outputs": [
        {
          "name": "stdout",
          "output_type": "stream",
          "text": [
            "El precio promedio en Valdemorillo es $357835.13 USD\n"
          ]
        }
      ],
      "source": [
        "valdemorillo_data = data[data['level5'] == 'Valdemorillo']\n",
        "mean_price_v = valdemorillo_data['price'].mean()\n",
        "print(f'El precio promedio en Valdemorillo es ${round(mean_price_v, 2)} USD')"
      ]
    },
    {
      "cell_type": "code",
      "execution_count": 29,
      "id": "f5e3a74c",
      "metadata": {},
      "outputs": [
        {
          "name": "stdout",
          "output_type": "stream",
          "text": [
            "El precio promedio en Valdemorillo es $352781.59 USD\n"
          ]
        }
      ],
      "source": [
        "galapagar_data = data[data['level5'] == 'Galapagar']\n",
        "mean_price_g = galapagar_data['price'].mean()\n",
        "print(f'El precio promedio en Valdemorillo es ${round(mean_price_g, 2)} USD')"
      ]
    },
    {
      "cell_type": "markdown",
      "id": "864d9a4d",
      "metadata": {},
      "source": [
        "La media de precios de \"Valdemorillo\" y \"Galapagar\" es muy similar."
      ]
    },
    {
      "attachments": {},
      "cell_type": "markdown",
      "id": "lonely-article",
      "metadata": {},
      "source": [
        "#### Ejercicio 10. ¿Son los promedios de precio por metro cuadrado (precio/m2) de \"Valdemorillo\" y \"Galapagar\" los mismos? (★★☆)\n",
        "\n",
        "Imprime ambos promedios de precio por metro cuadrado y escribe una conclusión sobre ellos.\n",
        "\n",
        "Pista: Crea una nueva columna llamada `pps` (*price per square* o precio por metro cuadrado) y luego analiza los valores."
      ]
    },
    {
      "cell_type": "code",
      "execution_count": 30,
      "id": "hourly-globe",
      "metadata": {},
      "outputs": [
        {
          "data": {
            "text/html": [
              "<div>\n",
              "<style scoped>\n",
              "    .dataframe tbody tr th:only-of-type {\n",
              "        vertical-align: middle;\n",
              "    }\n",
              "\n",
              "    .dataframe tbody tr th {\n",
              "        vertical-align: top;\n",
              "    }\n",
              "\n",
              "    .dataframe thead th {\n",
              "        text-align: right;\n",
              "    }\n",
              "</style>\n",
              "<table border=\"1\" class=\"dataframe\">\n",
              "  <thead>\n",
              "    <tr style=\"text-align: right;\">\n",
              "      <th></th>\n",
              "      <th>id_realEstates</th>\n",
              "      <th>isNew</th>\n",
              "      <th>realEstate_name</th>\n",
              "      <th>rooms</th>\n",
              "      <th>bathrooms</th>\n",
              "      <th>surface</th>\n",
              "      <th>price</th>\n",
              "      <th>date</th>\n",
              "      <th>description</th>\n",
              "      <th>address</th>\n",
              "      <th>...</th>\n",
              "      <th>level3Id</th>\n",
              "      <th>level4Id</th>\n",
              "      <th>level5Id</th>\n",
              "      <th>level6Id</th>\n",
              "      <th>level7Id</th>\n",
              "      <th>level8Id</th>\n",
              "      <th>accuracy</th>\n",
              "      <th>latitude</th>\n",
              "      <th>longitude</th>\n",
              "      <th>pps</th>\n",
              "    </tr>\n",
              "  </thead>\n",
              "  <tbody>\n",
              "    <tr>\n",
              "      <th>0</th>\n",
              "      <td>153771986</td>\n",
              "      <td>False</td>\n",
              "      <td>ferrari 57 inmobiliaria</td>\n",
              "      <td>3.0</td>\n",
              "      <td>2.0</td>\n",
              "      <td>103.0</td>\n",
              "      <td>195000</td>\n",
              "      <td>2019-12-28</td>\n",
              "      <td>Ponemos a la venta piso de 3 dormitorios con t...</td>\n",
              "      <td>Calle Presidente Felipe Gonzalez, Arganda del Rey</td>\n",
              "      <td>...</td>\n",
              "      <td>0</td>\n",
              "      <td>0</td>\n",
              "      <td>0</td>\n",
              "      <td>0</td>\n",
              "      <td>0</td>\n",
              "      <td>0</td>\n",
              "      <td>0</td>\n",
              "      <td>40,2948276786438</td>\n",
              "      <td>-3,44402412135624</td>\n",
              "      <td>1893.203883</td>\n",
              "    </tr>\n",
              "    <tr>\n",
              "      <th>1</th>\n",
              "      <td>153867863</td>\n",
              "      <td>False</td>\n",
              "      <td>tecnocasa fuenlabrada ferrocarril</td>\n",
              "      <td>3.0</td>\n",
              "      <td>1.0</td>\n",
              "      <td>NaN</td>\n",
              "      <td>89000</td>\n",
              "      <td>2019-12-28</td>\n",
              "      <td>\"\"Agencia inmobiliaria de FUENLABRADA - zona F...</td>\n",
              "      <td>Calle Polvoranca, 6, Fuenlabrada</td>\n",
              "      <td>...</td>\n",
              "      <td>0</td>\n",
              "      <td>0</td>\n",
              "      <td>0</td>\n",
              "      <td>0</td>\n",
              "      <td>0</td>\n",
              "      <td>0</td>\n",
              "      <td>1</td>\n",
              "      <td>40,28674</td>\n",
              "      <td>-3,79351</td>\n",
              "      <td>NaN</td>\n",
              "    </tr>\n",
              "    <tr>\n",
              "      <th>2</th>\n",
              "      <td>153430440</td>\n",
              "      <td>False</td>\n",
              "      <td>look find boadilla</td>\n",
              "      <td>2.0</td>\n",
              "      <td>2.0</td>\n",
              "      <td>99.0</td>\n",
              "      <td>390000</td>\n",
              "      <td>2019-12-28</td>\n",
              "      <td>Lookandfind Boadilla, vende en exclusiva, piso...</td>\n",
              "      <td>Calle Reyes Católicos, Boadilla del Monte</td>\n",
              "      <td>...</td>\n",
              "      <td>0</td>\n",
              "      <td>0</td>\n",
              "      <td>0</td>\n",
              "      <td>0</td>\n",
              "      <td>0</td>\n",
              "      <td>0</td>\n",
              "      <td>0</td>\n",
              "      <td>40,4115646786438</td>\n",
              "      <td>-3,90662252135624</td>\n",
              "      <td>3939.393939</td>\n",
              "    </tr>\n",
              "    <tr>\n",
              "      <th>3</th>\n",
              "      <td>152776331</td>\n",
              "      <td>False</td>\n",
              "      <td>tecnocasa fuenlabrada ferrocarril</td>\n",
              "      <td>3.0</td>\n",
              "      <td>1.0</td>\n",
              "      <td>86.0</td>\n",
              "      <td>89000</td>\n",
              "      <td>2019-12-28</td>\n",
              "      <td>Agencia inmobiliaria de FUENLABRADA - zona Fue...</td>\n",
              "      <td>Barrio San Andres, Fuenlabrada</td>\n",
              "      <td>...</td>\n",
              "      <td>0</td>\n",
              "      <td>0</td>\n",
              "      <td>0</td>\n",
              "      <td>0</td>\n",
              "      <td>0</td>\n",
              "      <td>0</td>\n",
              "      <td>0</td>\n",
              "      <td>40,2853785786438</td>\n",
              "      <td>-3,79508142135624</td>\n",
              "      <td>1034.883721</td>\n",
              "    </tr>\n",
              "    <tr>\n",
              "      <th>4</th>\n",
              "      <td>153180188</td>\n",
              "      <td>False</td>\n",
              "      <td>ferrari 57 inmobiliaria</td>\n",
              "      <td>2.0</td>\n",
              "      <td>2.0</td>\n",
              "      <td>106.0</td>\n",
              "      <td>172000</td>\n",
              "      <td>2019-12-28</td>\n",
              "      <td>PISOS DE OBRA NUEVA DE 2 Y 3 DORMITORIOS. OBRA...</td>\n",
              "      <td>Arganda del Rey</td>\n",
              "      <td>...</td>\n",
              "      <td>0</td>\n",
              "      <td>0</td>\n",
              "      <td>0</td>\n",
              "      <td>0</td>\n",
              "      <td>0</td>\n",
              "      <td>0</td>\n",
              "      <td>0</td>\n",
              "      <td>40,2998774864376</td>\n",
              "      <td>-3,45226301356237</td>\n",
              "      <td>1622.641509</td>\n",
              "    </tr>\n",
              "  </tbody>\n",
              "</table>\n",
              "<p>5 rows × 33 columns</p>\n",
              "</div>"
            ],
            "text/plain": [
              "   id_realEstates  isNew                    realEstate_name  rooms  bathrooms  \\\n",
              "0       153771986  False            ferrari 57 inmobiliaria    3.0        2.0   \n",
              "1       153867863  False  tecnocasa fuenlabrada ferrocarril    3.0        1.0   \n",
              "2       153430440  False                 look find boadilla    2.0        2.0   \n",
              "3       152776331  False  tecnocasa fuenlabrada ferrocarril    3.0        1.0   \n",
              "4       153180188  False            ferrari 57 inmobiliaria    2.0        2.0   \n",
              "\n",
              "   surface   price       date  \\\n",
              "0    103.0  195000 2019-12-28   \n",
              "1      NaN   89000 2019-12-28   \n",
              "2     99.0  390000 2019-12-28   \n",
              "3     86.0   89000 2019-12-28   \n",
              "4    106.0  172000 2019-12-28   \n",
              "\n",
              "                                         description  \\\n",
              "0  Ponemos a la venta piso de 3 dormitorios con t...   \n",
              "1  \"\"Agencia inmobiliaria de FUENLABRADA - zona F...   \n",
              "2  Lookandfind Boadilla, vende en exclusiva, piso...   \n",
              "3  Agencia inmobiliaria de FUENLABRADA - zona Fue...   \n",
              "4  PISOS DE OBRA NUEVA DE 2 Y 3 DORMITORIOS. OBRA...   \n",
              "\n",
              "                                             address  ... level3Id level4Id  \\\n",
              "0  Calle Presidente Felipe Gonzalez, Arganda del Rey  ...        0        0   \n",
              "1                   Calle Polvoranca, 6, Fuenlabrada  ...        0        0   \n",
              "2          Calle Reyes Católicos, Boadilla del Monte  ...        0        0   \n",
              "3                     Barrio San Andres, Fuenlabrada  ...        0        0   \n",
              "4                                    Arganda del Rey  ...        0        0   \n",
              "\n",
              "  level5Id level6Id level7Id level8Id accuracy          latitude  \\\n",
              "0        0        0        0        0        0  40,2948276786438   \n",
              "1        0        0        0        0        1          40,28674   \n",
              "2        0        0        0        0        0  40,4115646786438   \n",
              "3        0        0        0        0        0  40,2853785786438   \n",
              "4        0        0        0        0        0  40,2998774864376   \n",
              "\n",
              "           longitude          pps  \n",
              "0  -3,44402412135624  1893.203883  \n",
              "1           -3,79351          NaN  \n",
              "2  -3,90662252135624  3939.393939  \n",
              "3  -3,79508142135624  1034.883721  \n",
              "4  -3,45226301356237  1622.641509  \n",
              "\n",
              "[5 rows x 33 columns]"
            ]
          },
          "execution_count": 30,
          "metadata": {},
          "output_type": "execute_result"
        }
      ],
      "source": [
        "data['pps'] = data['price']/data['surface']\n",
        "data.head()"
      ]
    },
    {
      "cell_type": "code",
      "execution_count": 31,
      "id": "4780f4d2",
      "metadata": {},
      "outputs": [
        {
          "name": "stdout",
          "output_type": "stream",
          "text": [
            "El promedio de precio por metro cuadrado (precio/m2) de \"Valdemorillo\" es 1306.43 USD\n"
          ]
        }
      ],
      "source": [
        "mean_pps_valdemorillo = data[data['level5'] == 'Valdemorillo']['pps'].mean()\n",
        "print(f'El promedio de precio por metro cuadrado (precio/m2) de \"Valdemorillo\" es {round(mean_pps_valdemorillo, 2)} USD')"
      ]
    },
    {
      "cell_type": "code",
      "execution_count": 32,
      "id": "e1893670",
      "metadata": {},
      "outputs": [
        {
          "name": "stdout",
          "output_type": "stream",
          "text": [
            "El promedio de precio por metro cuadrado (precio/m2) de \"Galapagar\" es 1570.8 USD\n"
          ]
        }
      ],
      "source": [
        "mean_pps_galapagar = data[data['level5'] == 'Galapagar']['pps'].mean()\n",
        "print(f'El promedio de precio por metro cuadrado (precio/m2) de \"Galapagar\" es {round(mean_pps_galapagar, 2)} USD')"
      ]
    },
    {
      "attachments": {},
      "cell_type": "markdown",
      "id": "pleasant-invite",
      "metadata": {},
      "source": [
        "#### Ejercicio 11. Analiza la relación entre la superficie y el precio de las casas. (★★☆)\n",
        "\n",
        "Pista: Puedes hacer un `scatter plot` y luego escribir una conclusión al respecto."
      ]
    },
    {
      "cell_type": "code",
      "execution_count": 33,
      "id": "common-drilling",
      "metadata": {},
      "outputs": [
        {
          "data": {
            "image/png": "[encoded data removed]",
            "text/plain": [
              "<Figure size 1000x600 with 1 Axes>"
            ]
          },
          "metadata": {},
          "output_type": "display_data"
        }
      ],
      "source": [
        "import matplotlib.pyplot as plt\n",
        "plt.figure(figsize=(10, 6))\n",
        "plt.scatter(x = data['surface'], y = data['price'])\n",
        "plt.title('Relation between surface and price of houses')\n",
        "plt.xlabel('Surface (m2)')\n",
        "plt.ylabel('Price')\n",
        "plt.xlim(0, 2000)\n",
        "plt.grid(True)\n",
        "plt.tight_layout\n",
        "plt.show()"
      ]
    },
    {
      "attachments": {},
      "cell_type": "markdown",
      "id": "ahead-liquid",
      "metadata": {},
      "source": [
        "**TODO: Markdown**. Para escribir aquí, haz doble clic en esta celda, elimina este contenido y coloca lo que quieras escribir. Luego ejecuta la celda."
      ]
    },
    {
      "attachments": {},
      "cell_type": "markdown",
      "id": "coordinate-sunrise",
      "metadata": {},
      "source": [
        "#### Ejercicio 12. ¿Cuántas agencia de bienes raíces contiene el dataset? (★★☆)\n",
        "\n",
        "Imprime el valor obtenido."
      ]
    },
    {
      "cell_type": "code",
      "execution_count": 34,
      "id": "valid-honolulu",
      "metadata": {},
      "outputs": [
        {
          "data": {
            "text/plain": [
              "1821"
            ]
          },
          "execution_count": 34,
          "metadata": {},
          "output_type": "execute_result"
        }
      ],
      "source": [
        "agencies = data['realEstate_name'].nunique()\n",
        "agencies"
      ]
    },
    {
      "attachments": {},
      "cell_type": "markdown",
      "id": "binding-ebony",
      "metadata": {},
      "source": [
        "#### Ejercicio 13. ¿Cuál es la población (columna level5) que contiene la mayor cantidad de casas?(★★☆)\n",
        "\n",
        "Imprima la población y el número de casas."
      ]
    },
    {
      "cell_type": "code",
      "execution_count": 35,
      "id": "static-perry",
      "metadata": {},
      "outputs": [
        {
          "data": {
            "text/plain": [
              "level5\n",
              " Madrid Capital         6130\n",
              "Alcalá de Henares        490\n",
              "Las Rozas de Madrid      373\n",
              "Móstoles                 298\n",
              "Getafe                   258\n",
              "                        ... \n",
              "Fresno de Torote           1\n",
              "Pinilla del Valle          1\n",
              "Rascafría                  1\n",
              "La Hiruela                 1\n",
              "Montejo de la Sierra       1\n",
              "Name: count, Length: 168, dtype: int64"
            ]
          },
          "execution_count": 35,
          "metadata": {},
          "output_type": "execute_result"
        }
      ],
      "source": [
        "level5 = data['level5'].value_counts()\n",
        "level5"
      ]
    },
    {
      "cell_type": "code",
      "execution_count": 36,
      "id": "19b2a551",
      "metadata": {},
      "outputs": [
        {
          "name": "stdout",
          "output_type": "stream",
          "text": [
            "La población (columna level5) que contiene la mayor cantidad de casas es  Madrid Capital con 6130 casas\n"
          ]
        }
      ],
      "source": [
        "population = level5.idxmax()\n",
        "number_of_houses = level5.max()\n",
        "print(f'La población (columna level5) que contiene la mayor cantidad de casas es {population} con {number_of_houses} casas')\n"
      ]
    },
    {
      "attachments": {},
      "cell_type": "markdown",
      "id": "entire-classification",
      "metadata": {},
      "source": [
        "#### Ejercicio 14. Ahora vamos a trabajar con el \"cinturón sur\" de Madrid. Haz un subconjunto del DataFrame original que contenga las siguientes poblaciones (columna level5): \"Fuenlabrada\", \"Leganés\", \"Getafe\", \"Alcorcón\" (★★☆)\n",
        "\n",
        "Pista: Filtra el DataFrame original usando la columna `level5` y la función `isin`."
      ]
    },
    {
      "cell_type": "code",
      "execution_count": 37,
      "id": "binary-input",
      "metadata": {},
      "outputs": [
        {
          "data": {
            "text/html": [
              "<div>\n",
              "<style scoped>\n",
              "    .dataframe tbody tr th:only-of-type {\n",
              "        vertical-align: middle;\n",
              "    }\n",
              "\n",
              "    .dataframe tbody tr th {\n",
              "        vertical-align: top;\n",
              "    }\n",
              "\n",
              "    .dataframe thead th {\n",
              "        text-align: right;\n",
              "    }\n",
              "</style>\n",
              "<table border=\"1\" class=\"dataframe\">\n",
              "  <thead>\n",
              "    <tr style=\"text-align: right;\">\n",
              "      <th></th>\n",
              "      <th>id_realEstates</th>\n",
              "      <th>isNew</th>\n",
              "      <th>realEstate_name</th>\n",
              "      <th>rooms</th>\n",
              "      <th>bathrooms</th>\n",
              "      <th>surface</th>\n",
              "      <th>price</th>\n",
              "      <th>date</th>\n",
              "      <th>description</th>\n",
              "      <th>address</th>\n",
              "      <th>...</th>\n",
              "      <th>level3Id</th>\n",
              "      <th>level4Id</th>\n",
              "      <th>level5Id</th>\n",
              "      <th>level6Id</th>\n",
              "      <th>level7Id</th>\n",
              "      <th>level8Id</th>\n",
              "      <th>accuracy</th>\n",
              "      <th>latitude</th>\n",
              "      <th>longitude</th>\n",
              "      <th>pps</th>\n",
              "    </tr>\n",
              "  </thead>\n",
              "  <tbody>\n",
              "    <tr>\n",
              "      <th>1</th>\n",
              "      <td>153867863</td>\n",
              "      <td>False</td>\n",
              "      <td>tecnocasa fuenlabrada ferrocarril</td>\n",
              "      <td>3.0</td>\n",
              "      <td>1.0</td>\n",
              "      <td>NaN</td>\n",
              "      <td>89000</td>\n",
              "      <td>2019-12-28</td>\n",
              "      <td>\"\"Agencia inmobiliaria de FUENLABRADA - zona F...</td>\n",
              "      <td>Calle Polvoranca, 6, Fuenlabrada</td>\n",
              "      <td>...</td>\n",
              "      <td>0</td>\n",
              "      <td>0</td>\n",
              "      <td>0</td>\n",
              "      <td>0</td>\n",
              "      <td>0</td>\n",
              "      <td>0</td>\n",
              "      <td>1</td>\n",
              "      <td>40,28674</td>\n",
              "      <td>-3,79351</td>\n",
              "      <td>NaN</td>\n",
              "    </tr>\n",
              "    <tr>\n",
              "      <th>3</th>\n",
              "      <td>152776331</td>\n",
              "      <td>False</td>\n",
              "      <td>tecnocasa fuenlabrada ferrocarril</td>\n",
              "      <td>3.0</td>\n",
              "      <td>1.0</td>\n",
              "      <td>86.0</td>\n",
              "      <td>89000</td>\n",
              "      <td>2019-12-28</td>\n",
              "      <td>Agencia inmobiliaria de FUENLABRADA - zona Fue...</td>\n",
              "      <td>Barrio San Andres, Fuenlabrada</td>\n",
              "      <td>...</td>\n",
              "      <td>0</td>\n",
              "      <td>0</td>\n",
              "      <td>0</td>\n",
              "      <td>0</td>\n",
              "      <td>0</td>\n",
              "      <td>0</td>\n",
              "      <td>0</td>\n",
              "      <td>40,2853785786438</td>\n",
              "      <td>-3,79508142135624</td>\n",
              "      <td>1034.883721</td>\n",
              "    </tr>\n",
              "    <tr>\n",
              "      <th>85</th>\n",
              "      <td>153152077</td>\n",
              "      <td>False</td>\n",
              "      <td>sinergical inmobiliaria</td>\n",
              "      <td>1.0</td>\n",
              "      <td>1.0</td>\n",
              "      <td>50.0</td>\n",
              "      <td>107000</td>\n",
              "      <td>2019-12-28</td>\n",
              "      <td>¡oportunidad! vivienda de obra nueva, local ad...</td>\n",
              "      <td>Avenida Carabancheles, 18, Alcorcón</td>\n",
              "      <td>...</td>\n",
              "      <td>0</td>\n",
              "      <td>0</td>\n",
              "      <td>0</td>\n",
              "      <td>0</td>\n",
              "      <td>0</td>\n",
              "      <td>0</td>\n",
              "      <td>1</td>\n",
              "      <td>40,35059</td>\n",
              "      <td>-3,82693</td>\n",
              "      <td>2140.000000</td>\n",
              "    </tr>\n",
              "    <tr>\n",
              "      <th>94</th>\n",
              "      <td>153995577</td>\n",
              "      <td>False</td>\n",
              "      <td>viviendas365com</td>\n",
              "      <td>3.0</td>\n",
              "      <td>2.0</td>\n",
              "      <td>120.0</td>\n",
              "      <td>320000</td>\n",
              "      <td>2019-12-28</td>\n",
              "      <td>VIVIENDAS365-VENDE- Hermosa Vivienda en el Bar...</td>\n",
              "      <td>Avenida Los Pinos, Leganés</td>\n",
              "      <td>...</td>\n",
              "      <td>0</td>\n",
              "      <td>0</td>\n",
              "      <td>0</td>\n",
              "      <td>0</td>\n",
              "      <td>0</td>\n",
              "      <td>0</td>\n",
              "      <td>0</td>\n",
              "      <td>40,31933</td>\n",
              "      <td>-3,77574</td>\n",
              "      <td>2666.666667</td>\n",
              "    </tr>\n",
              "    <tr>\n",
              "      <th>109</th>\n",
              "      <td>153586414</td>\n",
              "      <td>False</td>\n",
              "      <td>area uno asesores inmobiliarios</td>\n",
              "      <td>3.0</td>\n",
              "      <td>3.0</td>\n",
              "      <td>142.0</td>\n",
              "      <td>425000</td>\n",
              "      <td>2019-12-28</td>\n",
              "      <td>AREA UNO asesores inmobiliarios oficina de las...</td>\n",
              "      <td>Alcorcón</td>\n",
              "      <td>...</td>\n",
              "      <td>0</td>\n",
              "      <td>0</td>\n",
              "      <td>0</td>\n",
              "      <td>0</td>\n",
              "      <td>0</td>\n",
              "      <td>0</td>\n",
              "      <td>0</td>\n",
              "      <td>40,3313411</td>\n",
              "      <td>-3,8313868</td>\n",
              "      <td>2992.957746</td>\n",
              "    </tr>\n",
              "  </tbody>\n",
              "</table>\n",
              "<p>5 rows × 33 columns</p>\n",
              "</div>"
            ],
            "text/plain": [
              "     id_realEstates  isNew                    realEstate_name  rooms  \\\n",
              "1         153867863  False  tecnocasa fuenlabrada ferrocarril    3.0   \n",
              "3         152776331  False  tecnocasa fuenlabrada ferrocarril    3.0   \n",
              "85        153152077  False            sinergical inmobiliaria    1.0   \n",
              "94        153995577  False                    viviendas365com    3.0   \n",
              "109       153586414  False    area uno asesores inmobiliarios    3.0   \n",
              "\n",
              "     bathrooms  surface   price       date  \\\n",
              "1          1.0      NaN   89000 2019-12-28   \n",
              "3          1.0     86.0   89000 2019-12-28   \n",
              "85         1.0     50.0  107000 2019-12-28   \n",
              "94         2.0    120.0  320000 2019-12-28   \n",
              "109        3.0    142.0  425000 2019-12-28   \n",
              "\n",
              "                                           description  \\\n",
              "1    \"\"Agencia inmobiliaria de FUENLABRADA - zona F...   \n",
              "3    Agencia inmobiliaria de FUENLABRADA - zona Fue...   \n",
              "85   ¡oportunidad! vivienda de obra nueva, local ad...   \n",
              "94   VIVIENDAS365-VENDE- Hermosa Vivienda en el Bar...   \n",
              "109  AREA UNO asesores inmobiliarios oficina de las...   \n",
              "\n",
              "                                 address  ... level3Id level4Id level5Id  \\\n",
              "1       Calle Polvoranca, 6, Fuenlabrada  ...        0        0        0   \n",
              "3         Barrio San Andres, Fuenlabrada  ...        0        0        0   \n",
              "85   Avenida Carabancheles, 18, Alcorcón  ...        0        0        0   \n",
              "94            Avenida Los Pinos, Leganés  ...        0        0        0   \n",
              "109                             Alcorcón  ...        0        0        0   \n",
              "\n",
              "    level6Id level7Id level8Id accuracy          latitude          longitude  \\\n",
              "1          0        0        0        1          40,28674           -3,79351   \n",
              "3          0        0        0        0  40,2853785786438  -3,79508142135624   \n",
              "85         0        0        0        1          40,35059           -3,82693   \n",
              "94         0        0        0        0          40,31933           -3,77574   \n",
              "109        0        0        0        0        40,3313411         -3,8313868   \n",
              "\n",
              "             pps  \n",
              "1            NaN  \n",
              "3    1034.883721  \n",
              "85   2140.000000  \n",
              "94   2666.666667  \n",
              "109  2992.957746  \n",
              "\n",
              "[5 rows x 33 columns]"
            ]
          },
          "execution_count": 37,
          "metadata": {},
          "output_type": "execute_result"
        }
      ],
      "source": [
        "south_belt = data[data['level5'].isin([\"Fuenlabrada\", \"Leganés\", \"Getafe\", \"Alcorcón\"])]\n",
        "south_belt.head()"
      ]
    },
    {
      "attachments": {},
      "cell_type": "markdown",
      "id": "severe-fisher",
      "metadata": {},
      "source": [
        "#### Ejercicio 15. Traza un gráfico de barras de la mediana de los precios y explica lo que observas (debes usar el subconjunto obtenido del Ejercicio 14) (★★★)\n",
        "\n",
        "Imprima un gráfico de barras de la mediana de precios y escriba en la celda Markdown un breve análisis sobre el gráfico."
      ]
    },
    {
      "cell_type": "code",
      "execution_count": 38,
      "id": "lyric-bunch",
      "metadata": {},
      "outputs": [
        {
          "data": {
            "text/plain": [
              "level5\n",
              "Alcorcón       181000.0\n",
              "Fuenlabrada    155000.0\n",
              "Getafe         286330.0\n",
              "Leganés        169950.0\n",
              "Name: price, dtype: float64"
            ]
          },
          "execution_count": 38,
          "metadata": {},
          "output_type": "execute_result"
        }
      ],
      "source": [
        "median_prices = south_belt.groupby('level5')['price'].median()\n",
        "median_prices"
      ]
    },
    {
      "cell_type": "code",
      "execution_count": 39,
      "id": "78352051",
      "metadata": {},
      "outputs": [
        {
          "data": {
            "image/png": "[encoded data removed]",
            "text/plain": [
              "<Figure size 640x480 with 1 Axes>"
            ]
          },
          "metadata": {},
          "output_type": "display_data"
        }
      ],
      "source": [
        "import matplotlib.pyplot as plt\n",
        "import seaborn as sns\n",
        "\n",
        "sns.barplot(x = median_prices.index, y = median_prices.values).set(xlabel = 'Level5', ylabel = 'Median Prices', title = None)\n",
        "plt.tight_layout\n",
        "plt.show()"
      ]
    },
    {
      "attachments": {},
      "cell_type": "markdown",
      "id": "sublime-newspaper",
      "metadata": {},
      "source": [
        "La **mediana** de precios en el \"cinturon sur\" de Madrid es mas alta en Getafe."
      ]
    },
    {
      "attachments": {},
      "cell_type": "markdown",
      "id": "speaking-diamond",
      "metadata": {},
      "source": [
        "#### Ejercicio 16. Calcula la media y la varianza de muestra para las siguientes variables: precio, habitaciones, superficie y baños (debes usar el subconjunto obtenido del Ejercicio 14) (★★★)\n",
        "\n",
        "Imprime ambos valores por cada variable."
      ]
    },
    {
      "cell_type": "code",
      "execution_count": 40,
      "id": "random-feeling",
      "metadata": {},
      "outputs": [
        {
          "data": {
            "text/plain": [
              "Index(['id_realEstates', 'isNew', 'realEstate_name', 'rooms', 'bathrooms',\n",
              "       'surface', 'price', 'date', 'description', 'address', 'country',\n",
              "       'level1', 'level2', 'level3', 'level4', 'level5', 'level6', 'level7',\n",
              "       'level8', 'upperLevel', 'countryId', 'level1Id', 'level2Id', 'level3Id',\n",
              "       'level4Id', 'level5Id', 'level6Id', 'level7Id', 'level8Id', 'accuracy',\n",
              "       'latitude', 'longitude', 'pps'],\n",
              "      dtype='object')"
            ]
          },
          "execution_count": 40,
          "metadata": {},
          "output_type": "execute_result"
        }
      ],
      "source": [
        "south_belt.columns"
      ]
    },
    {
      "cell_type": "code",
      "execution_count": 41,
      "id": "35a4305b",
      "metadata": {},
      "outputs": [
        {
          "name": "stdout",
          "output_type": "stream",
          "text": [
            "La media de los precios en el \"cinturon sur\" de Madrid es 223175.85 y la varianza es 15011692689.07\n"
          ]
        }
      ],
      "source": [
        "mean_prices = south_belt['price'].mean()\n",
        "var_prices  = south_belt['price'].var()\n",
        "print(f'La media de los precios en el \"cinturon sur\" de Madrid es {round(mean_prices, 2)} y la varianza es {round(var_prices, 2)}')"
      ]
    },
    {
      "cell_type": "code",
      "execution_count": 42,
      "id": "e172656b",
      "metadata": {},
      "outputs": [
        {
          "name": "stdout",
          "output_type": "stream",
          "text": [
            "La media de habitaciones en el \"cinturon sur\" de Madrid es 3.02 y la varianza es 0.69\n"
          ]
        }
      ],
      "source": [
        "mean_rooms = south_belt['rooms'].mean()\n",
        "var_rooms  = south_belt['rooms'].var()\n",
        "print(f'La media de habitaciones en el \"cinturon sur\" de Madrid es {round(mean_rooms, 2)} y la varianza es {round(var_rooms, 2)}')"
      ]
    },
    {
      "cell_type": "code",
      "execution_count": 43,
      "id": "300b195b",
      "metadata": {},
      "outputs": [
        {
          "name": "stdout",
          "output_type": "stream",
          "text": [
            "La media de habitaciones en el \"cinturon sur\" de Madrid es 112.47 y la varianza es 4472.18\n"
          ]
        }
      ],
      "source": [
        "mean_surface = south_belt['surface'].mean()\n",
        "var_surface  = south_belt['surface'].var()\n",
        "print(f'La media de habitaciones en el \"cinturon sur\" de Madrid es {round(mean_surface, 2)} y la varianza es {round(var_surface, 2)}')"
      ]
    },
    {
      "cell_type": "code",
      "execution_count": 44,
      "id": "2796f69b",
      "metadata": {},
      "outputs": [
        {
          "name": "stdout",
          "output_type": "stream",
          "text": [
            "La media de baños en el \"cinturon sur\" de Madrid es 1.63 y la varianza es 0.57\n"
          ]
        }
      ],
      "source": [
        "mean_bathrooms = south_belt['bathrooms'].mean()\n",
        "var_bathrooms  = south_belt['bathrooms'].var()\n",
        "print(f'La media de baños en el \"cinturon sur\" de Madrid es {round(mean_bathrooms, 2)} y la varianza es {round(var_bathrooms, 2)}')"
      ]
    },
    {
      "attachments": {},
      "cell_type": "markdown",
      "id": "revolutionary-matrix",
      "metadata": {},
      "source": [
        "#### Ejercicio 17. ¿Cuál es la casa más cara de cada población? Debes usar el subset obtenido en la pregunta 14 (★★☆)\n",
        "\n",
        "Imprime tanto la dirección como el precio de la casa seleccionada de cada población. Puedes imprimir un DataFrame o una sola línea para cada población."
      ]
    },
    {
      "cell_type": "code",
      "execution_count": 45,
      "id": "fifteen-browse",
      "metadata": {},
      "outputs": [
        {
          "name": "stdout",
          "output_type": "stream",
          "text": [
            "La dirección de la casa de Fuenlabrada con el precio mas alto es Calle de Paulo Freire, 5, Fuenlabrada y su precio es $490000 USD\n"
          ]
        }
      ],
      "source": [
        "# Fuenlabrada, Leganés, Getafe, Alcorcón\n",
        "# Fuenlabrada\n",
        "Fuenlabrada = south_belt[south_belt['level5'] == 'Fuenlabrada']\n",
        "max_price_f = Fuenlabrada['price'].max()\n",
        "address_f   = Fuenlabrada.loc[Fuenlabrada['price'].idxmax(), 'address']\n",
        "print(f'La dirección de la casa de Fuenlabrada con el precio mas alto es {address_f} y su precio es ${max_price_f} USD')"
      ]
    },
    {
      "cell_type": "code",
      "execution_count": 46,
      "id": "2c9e2ac2",
      "metadata": {},
      "outputs": [
        {
          "name": "stdout",
          "output_type": "stream",
          "text": [
            "La dirección de la casa de Leganés con el precio mas alto es Avenida Reina Sofía, Leganés y su precio es $650000 USD\n"
          ]
        }
      ],
      "source": [
        "Leganes = south_belt[south_belt['level5'] == 'Leganés']\n",
        "max_price_l = Leganes['price'].max()\n",
        "address_l   = Leganes.loc[Leganes['price'].idxmax(), 'address']\n",
        "print(f'La dirección de la casa de Leganés con el precio mas alto es {address_l} y su precio es ${max_price_l} USD')"
      ]
    },
    {
      "cell_type": "code",
      "execution_count": 47,
      "id": "87cd8246",
      "metadata": {},
      "outputs": [
        {
          "name": "stdout",
          "output_type": "stream",
          "text": [
            "La dirección de la casa de Getafe con el precio mas alto es Getafe y su precio es $1050000 USD\n"
          ]
        }
      ],
      "source": [
        "Getafe = south_belt[south_belt['level5'] == 'Getafe']\n",
        "max_price_g = Getafe['price'].max()\n",
        "address_g   = Getafe.loc[Getafe['price'].idxmax(), 'address']\n",
        "print(f'La dirección de la casa de Getafe con el precio mas alto es {address_g} y su precio es ${max_price_g} USD')"
      ]
    },
    {
      "cell_type": "code",
      "execution_count": 48,
      "id": "70278450",
      "metadata": {},
      "outputs": [
        {
          "name": "stdout",
          "output_type": "stream",
          "text": [
            "La dirección de la casa de Alcorcón con el precio mas alto es Alcorcón y su precio es $950000 USD\n"
          ]
        }
      ],
      "source": [
        "Alcorcon = south_belt[south_belt['level5'] == 'Alcorcón']\n",
        "max_price_a = Alcorcon['price'].max()\n",
        "address_a   = Alcorcon.loc[Alcorcon['price'].idxmax(), 'address']\n",
        "print(f'La dirección de la casa de Alcorcón con el precio mas alto es {address_a} y su precio es ${max_price_a} USD')"
      ]
    },
    {
      "attachments": {},
      "cell_type": "markdown",
      "id": "activated-knight",
      "metadata": {},
      "source": [
        "#### Ejercicio 18. Normaliza la variable de precios para cada población y traza los 4 histogramas en el mismo gráfico (debes usar el subconjunto obtenido en la pregunta 14) (★★★)\n",
        "\n",
        "Para el método de normalización, puedes usar el que consideres adecuado, no hay una única respuesta correcta para esta pregunta. Imprime el gráfico y escribe en la celda de Markdown un breve análisis sobre el gráfico.\n",
        "\n",
        "Pista: Puedes ayudarte revisando la demostración multihist de Matplotlib."
      ]
    },
    {
      "cell_type": "code",
      "execution_count": 49,
      "id": "f5acfcd0",
      "metadata": {},
      "outputs": [],
      "source": [
        "import warnings\n",
        "warnings.filterwarnings('ignore')"
      ]
    },
    {
      "cell_type": "code",
      "execution_count": 50,
      "id": "civic-meditation",
      "metadata": {},
      "outputs": [
        {
          "data": {
            "image/png": "[encoded data removed]",
            "text/plain": [
              "<Figure size 640x480 with 4 Axes>"
            ]
          },
          "metadata": {},
          "output_type": "display_data"
        }
      ],
      "source": [
        "from sklearn.preprocessing import MinMaxScaler\n",
        "\n",
        "scaler = MinMaxScaler()\n",
        "south_belt['normal_price'] = scaler.fit_transform(south_belt[['price']])\n",
        "south_belt.hist(\"normal_price\", by=\"level5\", bins=15, edgecolor = 'black');"
      ]
    },
    {
      "attachments": {},
      "cell_type": "markdown",
      "id": "precise-heavy",
      "metadata": {},
      "source": [
        "La distribución de precios para las poblaciones del \"cinturón sur\" de Madrid están sesgadas a la izquierda."
      ]
    },
    {
      "attachments": {},
      "cell_type": "markdown",
      "id": "patent-jonathan",
      "metadata": {},
      "source": [
        "#### Ejercicio 19. ¿Qué puedes decir sobre el precio por metro cuadrado (precio/m2) entre los municipios de 'Getafe' y 'Alcorcón'? Debes usar el subconjunto obtenido en la pregunta 14 (★★☆)\n",
        "\n",
        "Pista: Crea una nueva columna llamada `pps` (price per square en inglés) y luego analiza los valores"
      ]
    },
    {
      "cell_type": "code",
      "execution_count": 57,
      "id": "initial-liverpool",
      "metadata": {},
      "outputs": [
        {
          "name": "stdout",
          "output_type": "stream",
          "text": [
            "El precio por metro cuadrado en Getafe es de 2051.98 USD\n"
          ]
        }
      ],
      "source": [
        "pps_g = Getafe['pps'].mean()\n",
        "print(f'El precio por metro cuadrado en Getafe es de {round(pps_g, 2)} USD')"
      ]
    },
    {
      "cell_type": "code",
      "execution_count": 58,
      "id": "085e4bc7",
      "metadata": {},
      "outputs": [
        {
          "name": "stdout",
          "output_type": "stream",
          "text": [
            "El precio por metro cuadrado en Getafe es de 2240.54 USD\n"
          ]
        }
      ],
      "source": [
        "pps_a = Alcorcon['pps'].mean()\n",
        "print(f'El precio por metro cuadrado en Getafe es de {round(pps_a, 2)} USD')"
      ]
    },
    {
      "attachments": {},
      "cell_type": "markdown",
      "id": "enhanced-moscow",
      "metadata": {},
      "source": [
        "#### Ejercicio 20. Realiza el mismo gráfico para 4 poblaciones diferentes (columna level5) y colócalos en el mismo gráfico. Debes usar el subconjunto obtenido en la pregunta 14 (★★☆) \n",
        "Pista: Haz un diagrama de dispersión de cada población usando subgráficos (subplots)."
      ]
    },
    {
      "cell_type": "code",
      "execution_count": 59,
      "id": "accepting-airfare",
      "metadata": {},
      "outputs": [
        {
          "data": {
            "image/png": "[encoded data removed]",
            "text/plain": [
              "<Figure size 800x600 with 4 Axes>"
            ]
          },
          "metadata": {},
          "output_type": "display_data"
        }
      ],
      "source": [
        "# Fuenlabrada, Leganés, Getafe, Alcorcón\n",
        "fig=plt.figure(figsize=(8,6))\n",
        "\n",
        "ax1=fig.add_subplot(2,2,1)\n",
        "ax2=fig.add_subplot(2,2,2)\n",
        "ax3=fig.add_subplot(2,2,3)\n",
        "ax4=fig.add_subplot(2,2,4)\n",
        "\n",
        "ax1.scatter(Fuenlabrada['surface'], Fuenlabrada['price'], c = 'r')\n",
        "ax1.set_title('Fuenlabrada')\n",
        "ax1.set_xlabel('Surface (m2)')\n",
        "ax1.set_ylabel('Price')\n",
        "ax1.set_xlim(left = 0, right = 250)\n",
        "ax1.set_ylim(bottom = 0, top = 500000)\n",
        "ax1.grid(True)\n",
        "\n",
        "ax2.scatter(Leganes['surface'], Leganes['price'], c = 'g')\n",
        "ax2.set_title('Leganés')\n",
        "ax2.set_xlabel('Surface (m2)')\n",
        "ax2.set_ylabel('Price')\n",
        "ax2.set_xlim(left = 0, right = 250)\n",
        "ax2.set_ylim(bottom = 0, top = 500000)\n",
        "ax2.grid(True)\n",
        "\n",
        "ax3.scatter(Getafe['surface'], Getafe['price'], c = 'b')\n",
        "ax3.set_title('Getafe')\n",
        "ax3.set_xlabel('Surface (m2)')\n",
        "ax3.set_ylabel('Price')\n",
        "ax3.set_xlim(left = 0, right = 250)\n",
        "ax3.set_ylim(bottom = 0, top = 500000)\n",
        "ax3.grid(True)\n",
        "\n",
        "ax4.scatter(Alcorcon['surface'], Alcorcon['price'], c = 'y')\n",
        "ax4.set_title('Alcorcón')\n",
        "ax4.set_xlabel('Surface (m2)')\n",
        "ax4.set_ylabel('Price')\n",
        "ax4.set_xlim(left = 0, right = 250)\n",
        "ax4.set_ylim(bottom = 0, top = 500000)\n",
        "ax4.grid(True)\n",
        "\n",
        "plt.tight_layout()"
      ]
    },
    {
      "attachments": {},
      "cell_type": "markdown",
      "id": "blocked-effects",
      "metadata": {},
      "source": [
        "#### Ejercicio 21. Realiza un trazado de las coordenadas (columnas latitud y longitud) del cinturón sur de Madrid por color de cada población (debes usar el subconjunto obtenido del Ejercicio 14) (★★★★)\n",
        "\n",
        "Ejecuta la siguiente celda y luego comienza a codear en la siguiente. Debes implementar un código simple que transforme las columnas de coordenadas en un diccionario de Python (agrega más información si es necesario) y agrégala al mapa."
      ]
    },
    {
      "cell_type": "code",
      "execution_count": 53,
      "id": "headed-privacy",
      "metadata": {},
      "outputs": [
        {
          "ename": "AttributeError",
          "evalue": "Stamen",
          "output_type": "error",
          "traceback": [
            "\u001b[31m---------------------------------------------------------------------------\u001b[39m",
            "\u001b[31mKeyError\u001b[39m                                  Traceback (most recent call last)",
            "\u001b[36mFile \u001b[39m\u001b[32m~/.local/lib/python3.11/site-packages/xyzservices/lib.py:45\u001b[39m, in \u001b[36mBunch.__getattr__\u001b[39m\u001b[34m(self, key)\u001b[39m\n\u001b[32m     44\u001b[39m \u001b[38;5;28;01mtry\u001b[39;00m:\n\u001b[32m---> \u001b[39m\u001b[32m45\u001b[39m     \u001b[38;5;28;01mreturn\u001b[39;00m \u001b[38;5;28;43mself\u001b[39;49m\u001b[43m.\u001b[49m\u001b[34;43m__getitem__\u001b[39;49m\u001b[43m(\u001b[49m\u001b[43mkey\u001b[49m\u001b[43m)\u001b[49m\n\u001b[32m     46\u001b[39m \u001b[38;5;28;01mexcept\u001b[39;00m \u001b[38;5;167;01mKeyError\u001b[39;00m \u001b[38;5;28;01mas\u001b[39;00m err:\n",
            "\u001b[31mKeyError\u001b[39m: 'Stamen'",
            "\nThe above exception was the direct cause of the following exception:\n",
            "\u001b[31mAttributeError\u001b[39m                            Traceback (most recent call last)",
            "\u001b[36mCell\u001b[39m\u001b[36m \u001b[39m\u001b[32mIn[53]\u001b[39m\u001b[32m, line 6\u001b[39m\n\u001b[32m      1\u001b[39m \u001b[38;5;28;01mfrom\u001b[39;00m\u001b[38;5;250m \u001b[39m\u001b[34;01mipyleaflet\u001b[39;00m\u001b[38;5;250m \u001b[39m\u001b[38;5;28;01mimport\u001b[39;00m Map, basemaps\n\u001b[32m      3\u001b[39m \u001b[38;5;66;03m# Mapa centrado en (60 grados latitud y -2.2 grados longitud)\u001b[39;00m\n\u001b[32m      4\u001b[39m \u001b[38;5;66;03m# Latitud, longitud\u001b[39;00m\n\u001b[32m      5\u001b[39m \u001b[38;5;28mmap\u001b[39m = Map(center = (\u001b[32m60\u001b[39m, -\u001b[32m2.2\u001b[39m), zoom = \u001b[32m2\u001b[39m, min_zoom = \u001b[32m1\u001b[39m, max_zoom = \u001b[32m20\u001b[39m, \n\u001b[32m----> \u001b[39m\u001b[32m6\u001b[39m     basemap=\u001b[43mbasemaps\u001b[49m\u001b[43m.\u001b[49m\u001b[43mStamen\u001b[49m.Terrain)\n\u001b[32m      7\u001b[39m \u001b[38;5;28mmap\u001b[39m\n",
            "\u001b[36mFile \u001b[39m\u001b[32m~/.local/lib/python3.11/site-packages/xyzservices/lib.py:47\u001b[39m, in \u001b[36mBunch.__getattr__\u001b[39m\u001b[34m(self, key)\u001b[39m\n\u001b[32m     45\u001b[39m     \u001b[38;5;28;01mreturn\u001b[39;00m \u001b[38;5;28mself\u001b[39m.\u001b[34m__getitem__\u001b[39m(key)\n\u001b[32m     46\u001b[39m \u001b[38;5;28;01mexcept\u001b[39;00m \u001b[38;5;167;01mKeyError\u001b[39;00m \u001b[38;5;28;01mas\u001b[39;00m err:\n\u001b[32m---> \u001b[39m\u001b[32m47\u001b[39m     \u001b[38;5;28;01mraise\u001b[39;00m \u001b[38;5;167;01mAttributeError\u001b[39;00m(key) \u001b[38;5;28;01mfrom\u001b[39;00m\u001b[38;5;250m \u001b[39m\u001b[34;01merr\u001b[39;00m\n",
            "\u001b[31mAttributeError\u001b[39m: Stamen"
          ]
        }
      ],
      "source": [
        "from ipyleaflet import Map, basemaps\n",
        "\n",
        "# Mapa centrado en (60 grados latitud y -2.2 grados longitud)\n",
        "# Latitud, longitud\n",
        "map = Map(center = (60, -2.2), zoom = 2, min_zoom = 1, max_zoom = 20, \n",
        "    basemap=basemaps.Stamen.Terrain)\n",
        "map"
      ]
    },
    {
      "cell_type": "code",
      "execution_count": null,
      "id": "present-mistress",
      "metadata": {},
      "outputs": [],
      "source": [
        "## Aquí: traza la coordenadas de los estados\n",
        "\n",
        "## PON TU CÓDIGO AQUÍ:\n"
      ]
    }
  ],
  "metadata": {
    "kernelspec": {
      "display_name": "Python 3",
      "language": "python",
      "name": "python3"
    },
    "language_info": {
      "codemirror_mode": {
        "name": "ipython",
        "version": 3
      },
      "file_extension": ".py",
      "mimetype": "text/x-python",
      "name": "python",
      "nbconvert_exporter": "python",
      "pygments_lexer": "ipython3",
      "version": "3.11.4"
    }
  },
  "nbformat": 4,
  "nbformat_minor": 5
}
